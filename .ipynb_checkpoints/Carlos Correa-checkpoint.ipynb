{
 "cells": [
  {
   "cell_type": "code",
   "execution_count": 1,
   "metadata": {},
   "outputs": [],
   "source": [
    "import pandas as pd\n",
    "import requests\n",
    "import pprint\n",
    "from pymongo import MongoClient\n",
    "from bs4 import BeautifulSoup\n",
    "import json\n",
    "import time\n",
    "from lxml import html\n",
    "from io import StringIO\n",
    "from datetime import datetime"
   ]
  },
  {
   "cell_type": "markdown",
   "metadata": {},
   "source": [
    "# Carlos Correa"
   ]
  },
  {
   "cell_type": "markdown",
   "metadata": {},
   "source": [
    "## 2015"
   ]
  },
  {
   "cell_type": "code",
   "execution_count": 2,
   "metadata": {},
   "outputs": [
    {
     "data": {
      "text/html": [
       "<div>\n",
       "<style scoped>\n",
       "    .dataframe tbody tr th:only-of-type {\n",
       "        vertical-align: middle;\n",
       "    }\n",
       "\n",
       "    .dataframe tbody tr th {\n",
       "        vertical-align: top;\n",
       "    }\n",
       "\n",
       "    .dataframe thead th {\n",
       "        text-align: right;\n",
       "    }\n",
       "</style>\n",
       "<table border=\"1\" class=\"dataframe\">\n",
       "  <thead>\n",
       "    <tr style=\"text-align: right;\">\n",
       "      <th></th>\n",
       "      <th>2015</th>\n",
       "      <th>Batting Average</th>\n",
       "    </tr>\n",
       "  </thead>\n",
       "  <tbody>\n",
       "    <tr>\n",
       "      <th>0</th>\n",
       "      <td>06-08</td>\n",
       "      <td>0.250</td>\n",
       "    </tr>\n",
       "    <tr>\n",
       "      <th>1</th>\n",
       "      <td>06-09</td>\n",
       "      <td>0.375</td>\n",
       "    </tr>\n",
       "    <tr>\n",
       "      <th>2</th>\n",
       "      <td>06-10</td>\n",
       "      <td>0.333</td>\n",
       "    </tr>\n",
       "    <tr>\n",
       "      <th>3</th>\n",
       "      <td>06-12</td>\n",
       "      <td>0.313</td>\n",
       "    </tr>\n",
       "    <tr>\n",
       "      <th>4</th>\n",
       "      <td>06-13</td>\n",
       "      <td>0.263</td>\n",
       "    </tr>\n",
       "    <tr>\n",
       "      <th>...</th>\n",
       "      <td>...</td>\n",
       "      <td>...</td>\n",
       "    </tr>\n",
       "    <tr>\n",
       "      <th>94</th>\n",
       "      <td>09-29</td>\n",
       "      <td>0.278</td>\n",
       "    </tr>\n",
       "    <tr>\n",
       "      <th>95</th>\n",
       "      <td>09-30</td>\n",
       "      <td>0.277</td>\n",
       "    </tr>\n",
       "    <tr>\n",
       "      <th>96</th>\n",
       "      <td>10-02</td>\n",
       "      <td>0.282</td>\n",
       "    </tr>\n",
       "    <tr>\n",
       "      <th>97</th>\n",
       "      <td>10-03</td>\n",
       "      <td>0.279</td>\n",
       "    </tr>\n",
       "    <tr>\n",
       "      <th>98</th>\n",
       "      <td>10-04</td>\n",
       "      <td>0.279</td>\n",
       "    </tr>\n",
       "  </tbody>\n",
       "</table>\n",
       "<p>99 rows × 2 columns</p>\n",
       "</div>"
      ],
      "text/plain": [
       "     2015  Batting Average\n",
       "0   06-08            0.250\n",
       "1   06-09            0.375\n",
       "2   06-10            0.333\n",
       "3   06-12            0.313\n",
       "4   06-13            0.263\n",
       "..    ...              ...\n",
       "94  09-29            0.278\n",
       "95  09-30            0.277\n",
       "96  10-02            0.282\n",
       "97  10-03            0.279\n",
       "98  10-04            0.279\n",
       "\n",
       "[99 rows x 2 columns]"
      ]
     },
     "execution_count": 2,
     "metadata": {},
     "output_type": "execute_result"
    }
   ],
   "source": [
    "# batting averages\n",
    "\n",
    "xpath = \"//pre[5]/text()\"\n",
    "url = 'https://www.retrosheet.org/boxesetc/2015/Icorrc0010012015.htm'\n",
    "r = requests.get(url)\n",
    "page = html.parse(StringIO(r.text))\n",
    "correa_2015 = page.xpath(xpath)\n",
    "\n",
    "correa_2015_game_data_only = []\n",
    "for idx, row in enumerate(correa_2015):\n",
    "    if idx % 2 == 0:\n",
    "        correa_2015_game_data_only.append(row)\n",
    "        \n",
    "\n",
    "correa_2015_game_data_cleaned = []\n",
    "for row in correa_2015_game_data_only[1:]:\n",
    "    if row[112:119] == '   Date':\n",
    "        correa_2015_game_data_cleaned.append(row[0:112])\n",
    "    else:\n",
    "        correa_2015_game_data_cleaned.append(row)\n",
    "        \n",
    "correa_2015_averages = [float(row[87:91]) for row in correa_2015_game_data_cleaned]\n",
    "\n",
    "\n",
    "# dates played this year\n",
    "\n",
    "soup = BeautifulSoup(r.text, 'html.parser')\n",
    "\n",
    "link_text = []\n",
    "for a in soup.find_all('a'):\n",
    "    link_text.append(a.string)\n",
    "\n",
    "correa_2015_dates = []\n",
    "for i in link_text:\n",
    "    if '2015' in i:\n",
    "        correa_2015_dates.append(i)\n",
    "\n",
    "correa_2015_dates_cleaned = []\n",
    "for date in correa_2015_dates:\n",
    "    correa_2015_dates_cleaned.append(date.replace(' ', '0'))\n",
    "    \n",
    "correa_2015_dates_final = []\n",
    "for date in correa_2015_dates_cleaned:\n",
    "    correa_2015_dates_final.append(datetime.strftime(datetime.strptime(date, '%m-%d-%Y'), '%m-%d'))\n",
    "    \n",
    "correa_2015_df = pd.DataFrame(correa_2015_averages, correa_2015_dates_final).reset_index()\n",
    "correa_2015_df.columns = ['2015', 'Batting Average']\n",
    "correa_2015_df"
   ]
  },
  {
   "cell_type": "code",
   "execution_count": 3,
   "metadata": {
    "scrolled": true
   },
   "outputs": [
    {
     "data": {
      "text/plain": [
       "<matplotlib.axes._subplots.AxesSubplot at 0x7fa8756dd810>"
      ]
     },
     "execution_count": 3,
     "metadata": {},
     "output_type": "execute_result"
    },
    {
     "data": {
      "image/png": "[encoded data removed]",
      "text/plain": [
       "<Figure size 432x288 with 1 Axes>"
      ]
     },
     "metadata": {
      "needs_background": "light"
     },
     "output_type": "display_data"
    }
   ],
   "source": [
    "correa_2015_df.plot('2015', 'Batting Average')"
   ]
  },
  {
   "cell_type": "markdown",
   "metadata": {},
   "source": [
    "## 2016"
   ]
  },
  {
   "cell_type": "code",
   "execution_count": 17,
   "metadata": {},
   "outputs": [
    {
     "data": {
      "text/html": [
       "<div>\n",
       "<style scoped>\n",
       "    .dataframe tbody tr th:only-of-type {\n",
       "        vertical-align: middle;\n",
       "    }\n",
       "\n",
       "    .dataframe tbody tr th {\n",
       "        vertical-align: top;\n",
       "    }\n",
       "\n",
       "    .dataframe thead th {\n",
       "        text-align: right;\n",
       "    }\n",
       "</style>\n",
       "<table border=\"1\" class=\"dataframe\">\n",
       "  <thead>\n",
       "    <tr style=\"text-align: right;\">\n",
       "      <th></th>\n",
       "      <th>2016</th>\n",
       "      <th>Batting Average</th>\n",
       "    </tr>\n",
       "  </thead>\n",
       "  <tbody>\n",
       "    <tr>\n",
       "      <th>0</th>\n",
       "      <td>04-05</td>\n",
       "      <td>0.250</td>\n",
       "    </tr>\n",
       "    <tr>\n",
       "      <th>1</th>\n",
       "      <td>04-06</td>\n",
       "      <td>0.556</td>\n",
       "    </tr>\n",
       "    <tr>\n",
       "      <th>2</th>\n",
       "      <td>04-07</td>\n",
       "      <td>0.385</td>\n",
       "    </tr>\n",
       "    <tr>\n",
       "      <th>3</th>\n",
       "      <td>04-08</td>\n",
       "      <td>0.412</td>\n",
       "    </tr>\n",
       "    <tr>\n",
       "      <th>4</th>\n",
       "      <td>04-09</td>\n",
       "      <td>0.350</td>\n",
       "    </tr>\n",
       "    <tr>\n",
       "      <th>...</th>\n",
       "      <td>...</td>\n",
       "      <td>...</td>\n",
       "    </tr>\n",
       "    <tr>\n",
       "      <th>148</th>\n",
       "      <td>09-26</td>\n",
       "      <td>0.275</td>\n",
       "    </tr>\n",
       "    <tr>\n",
       "      <th>149</th>\n",
       "      <td>09-27</td>\n",
       "      <td>0.276</td>\n",
       "    </tr>\n",
       "    <tr>\n",
       "      <th>150</th>\n",
       "      <td>09-28</td>\n",
       "      <td>0.276</td>\n",
       "    </tr>\n",
       "    <tr>\n",
       "      <th>151</th>\n",
       "      <td>09-30</td>\n",
       "      <td>0.276</td>\n",
       "    </tr>\n",
       "    <tr>\n",
       "      <th>152</th>\n",
       "      <td>10-01</td>\n",
       "      <td>0.274</td>\n",
       "    </tr>\n",
       "  </tbody>\n",
       "</table>\n",
       "<p>153 rows × 2 columns</p>\n",
       "</div>"
      ],
      "text/plain": [
       "      2016  Batting Average\n",
       "0    04-05            0.250\n",
       "1    04-06            0.556\n",
       "2    04-07            0.385\n",
       "3    04-08            0.412\n",
       "4    04-09            0.350\n",
       "..     ...              ...\n",
       "148  09-26            0.275\n",
       "149  09-27            0.276\n",
       "150  09-28            0.276\n",
       "151  09-30            0.276\n",
       "152  10-01            0.274\n",
       "\n",
       "[153 rows x 2 columns]"
      ]
     },
     "execution_count": 17,
     "metadata": {},
     "output_type": "execute_result"
    }
   ],
   "source": [
    "# batting averages\n",
    "\n",
    "xpath = \"//pre[5]/text()\"\n",
    "url = 'https://www.retrosheet.org/boxesetc/2016/Icorrc0010022016.htm'\n",
    "r = requests.get(url)\n",
    "page = html.parse(StringIO(r.text))\n",
    "correa_2016 = page.xpath(xpath)\n",
    "\n",
    "correa_2016_game_data_only = []\n",
    "for idx, row in enumerate(correa_2016):\n",
    "    if idx % 2 == 0:\n",
    "        correa_2016_game_data_only.append(row)\n",
    "        \n",
    "\n",
    "correa_2016_game_data_cleaned = []\n",
    "for row in correa_2016_game_data_only[1:]:\n",
    "    if row[112:119] == '   Date':\n",
    "        correa_2016_game_data_cleaned.append(row[0:112])\n",
    "    else:\n",
    "        correa_2016_game_data_cleaned.append(row)\n",
    "        \n",
    "correa_2016_averages = [float(row[87:91]) for row in correa_2016_game_data_cleaned]\n",
    "\n",
    "# dates played this year\n",
    "\n",
    "soup = BeautifulSoup(r.text, 'html.parser')\n",
    "\n",
    "link_text = []\n",
    "for a in soup.find_all('a'):\n",
    "    link_text.append(a.string)\n",
    "\n",
    "correa_2016_dates = []\n",
    "for i in link_text:\n",
    "    if '2016' in i:\n",
    "        correa_2016_dates.append(i)\n",
    "\n",
    "correa_2016_dates_cleaned = []\n",
    "for date in correa_2016_dates:\n",
    "    correa_2016_dates_cleaned.append(date.replace(' ', '0'))\n",
    "    \n",
    "correa_2016_dates_final = []\n",
    "for date in correa_2016_dates_cleaned:\n",
    "    correa_2016_dates_final.append(datetime.strftime(datetime.strptime(date, '%m-%d-%Y'), '%m-%d'))\n",
    "    \n",
    "correa_2016_df = pd.DataFrame(correa_2016_averages, correa_2016_dates_final).reset_index()\n",
    "correa_2016_df.columns = ['2016', 'Batting Average']\n",
    "correa_2016_df"
   ]
  },
  {
   "cell_type": "code",
   "execution_count": 18,
   "metadata": {},
   "outputs": [
    {
     "data": {
      "text/plain": [
       "<matplotlib.axes._subplots.AxesSubplot at 0x7fa875e2e810>"
      ]
     },
     "execution_count": 18,
     "metadata": {},
     "output_type": "execute_result"
    },
    {
     "data": {
      "image/png": "[encoded data removed]",
      "text/plain": [
       "<Figure size 432x288 with 1 Axes>"
      ]
     },
     "metadata": {
      "needs_background": "light"
     },
     "output_type": "display_data"
    }
   ],
   "source": [
    "correa_2016_df.plot('2016', 'Batting Average')"
   ]
  },
  {
   "cell_type": "markdown",
   "metadata": {},
   "source": [
    "## 2017"
   ]
  },
  {
   "cell_type": "code",
   "execution_count": 19,
   "metadata": {},
   "outputs": [
    {
     "data": {
      "text/html": [
       "<div>\n",
       "<style scoped>\n",
       "    .dataframe tbody tr th:only-of-type {\n",
       "        vertical-align: middle;\n",
       "    }\n",
       "\n",
       "    .dataframe tbody tr th {\n",
       "        vertical-align: top;\n",
       "    }\n",
       "\n",
       "    .dataframe thead th {\n",
       "        text-align: right;\n",
       "    }\n",
       "</style>\n",
       "<table border=\"1\" class=\"dataframe\">\n",
       "  <thead>\n",
       "    <tr style=\"text-align: right;\">\n",
       "      <th></th>\n",
       "      <th>2017</th>\n",
       "      <th>Batting Average</th>\n",
       "    </tr>\n",
       "  </thead>\n",
       "  <tbody>\n",
       "    <tr>\n",
       "      <th>0</th>\n",
       "      <td>04-03</td>\n",
       "      <td>0.500</td>\n",
       "    </tr>\n",
       "    <tr>\n",
       "      <th>1</th>\n",
       "      <td>04-04</td>\n",
       "      <td>0.250</td>\n",
       "    </tr>\n",
       "    <tr>\n",
       "      <th>2</th>\n",
       "      <td>04-05</td>\n",
       "      <td>0.300</td>\n",
       "    </tr>\n",
       "    <tr>\n",
       "      <th>3</th>\n",
       "      <td>04-06</td>\n",
       "      <td>0.231</td>\n",
       "    </tr>\n",
       "    <tr>\n",
       "      <th>4</th>\n",
       "      <td>04-07</td>\n",
       "      <td>0.235</td>\n",
       "    </tr>\n",
       "    <tr>\n",
       "      <th>...</th>\n",
       "      <td>...</td>\n",
       "      <td>...</td>\n",
       "    </tr>\n",
       "    <tr>\n",
       "      <th>104</th>\n",
       "      <td>09-26</td>\n",
       "      <td>0.302</td>\n",
       "    </tr>\n",
       "    <tr>\n",
       "      <th>105</th>\n",
       "      <td>09-27</td>\n",
       "      <td>0.308</td>\n",
       "    </tr>\n",
       "    <tr>\n",
       "      <th>106</th>\n",
       "      <td>09-28</td>\n",
       "      <td>0.315</td>\n",
       "    </tr>\n",
       "    <tr>\n",
       "      <th>107</th>\n",
       "      <td>09-29</td>\n",
       "      <td>0.313</td>\n",
       "    </tr>\n",
       "    <tr>\n",
       "      <th>108</th>\n",
       "      <td>09-30</td>\n",
       "      <td>0.315</td>\n",
       "    </tr>\n",
       "  </tbody>\n",
       "</table>\n",
       "<p>109 rows × 2 columns</p>\n",
       "</div>"
      ],
      "text/plain": [
       "      2017  Batting Average\n",
       "0    04-03            0.500\n",
       "1    04-04            0.250\n",
       "2    04-05            0.300\n",
       "3    04-06            0.231\n",
       "4    04-07            0.235\n",
       "..     ...              ...\n",
       "104  09-26            0.302\n",
       "105  09-27            0.308\n",
       "106  09-28            0.315\n",
       "107  09-29            0.313\n",
       "108  09-30            0.315\n",
       "\n",
       "[109 rows x 2 columns]"
      ]
     },
     "execution_count": 19,
     "metadata": {},
     "output_type": "execute_result"
    }
   ],
   "source": [
    "# batting averages\n",
    "\n",
    "xpath = \"//pre[5]/text()\"\n",
    "url = 'https://www.retrosheet.org/boxesetc/2017/Icorrc0010032017.htm'\n",
    "r = requests.get(url)\n",
    "page = html.parse(StringIO(r.text))\n",
    "correa_2017 = page.xpath(xpath)\n",
    "\n",
    "correa_2017_game_data_only = []\n",
    "for idx, row in enumerate(correa_2017):\n",
    "    if idx % 2 == 0:\n",
    "        correa_2017_game_data_only.append(row)\n",
    "        \n",
    "\n",
    "correa_2017_game_data_cleaned = []\n",
    "for row in correa_2017_game_data_only[1:]:\n",
    "    if row[112:119] == '   Date':\n",
    "        correa_2017_game_data_cleaned.append(row[0:112])\n",
    "    else:\n",
    "        correa_2017_game_data_cleaned.append(row)\n",
    "        \n",
    "correa_2017_averages = [float(row[87:91]) for row in correa_2017_game_data_cleaned]\n",
    "\n",
    "# dates played this year\n",
    "\n",
    "soup = BeautifulSoup(r.text, 'html.parser')\n",
    "\n",
    "link_text = []\n",
    "for a in soup.find_all('a'):\n",
    "    link_text.append(a.string)\n",
    "\n",
    "correa_2017_dates = []\n",
    "for i in link_text:\n",
    "    if '2017' in i:\n",
    "        correa_2017_dates.append(i)\n",
    "\n",
    "correa_2017_dates_cleaned = []\n",
    "for date in correa_2017_dates:\n",
    "    correa_2017_dates_cleaned.append(date.replace(' ', '0'))\n",
    "    \n",
    "correa_2017_dates_final = []\n",
    "for date in correa_2017_dates_cleaned:\n",
    "    correa_2017_dates_final.append(datetime.strftime(datetime.strptime(date, '%m-%d-%Y'), '%m-%d'))\n",
    "    \n",
    "correa_2017_df = pd.DataFrame(correa_2017_averages, correa_2017_dates_final).reset_index()\n",
    "correa_2017_df.columns = ['2017', 'Batting Average']\n",
    "correa_2017_df"
   ]
  },
  {
   "cell_type": "code",
   "execution_count": 20,
   "metadata": {},
   "outputs": [
    {
     "data": {
      "text/plain": [
       "<matplotlib.axes._subplots.AxesSubplot at 0x7fa876036510>"
      ]
     },
     "execution_count": 20,
     "metadata": {},
     "output_type": "execute_result"
    },
    {
     "data": {
      "image/png": "[encoded data removed]",
      "text/plain": [
       "<Figure size 432x288 with 1 Axes>"
      ]
     },
     "metadata": {
      "needs_background": "light"
     },
     "output_type": "display_data"
    },
    {
     "data": {
      "image/png": "[encoded data removed]",
      "text/plain": [
       "<Figure size 432x288 with 1 Axes>"
      ]
     },
     "metadata": {
      "needs_background": "light"
     },
     "output_type": "display_data"
    },
    {
     "data": {
      "image/png": "[encoded data removed]",
      "text/plain": [
       "<Figure size 432x288 with 1 Axes>"
      ]
     },
     "metadata": {
      "needs_background": "light"
     },
     "output_type": "display_data"
    }
   ],
   "source": [
    "correa_2015_df.plot('2015', 'Batting Average')\n",
    "correa_2016_df.plot('2016', 'Batting Average')\n",
    "correa_2017_df.plot('2017', 'Batting Average')"
   ]
  },
  {
   "cell_type": "code",
   "execution_count": 21,
   "metadata": {},
   "outputs": [],
   "source": [
    "correa_2015_df.to_csv('csv_from_scrape/correa_2015_df.csv')\n",
    "correa_2016_df.to_csv('csv_from_scrape/correa_2016_df.csv')\n",
    "correa_2017_df.to_csv('csv_from_scrape/correa_2017_df.csv')"
   ]
  },
  {
   "cell_type": "code",
   "execution_count": null,
   "metadata": {},
   "outputs": [],
   "source": []
  }
 ],
 "metadata": {
  "kernelspec": {
   "display_name": "Python 3",
   "language": "python",
   "name": "python3"
  },
  "language_info": {
   "codemirror_mode": {
    "name": "ipython",
    "version": 3
   },
   "file_extension": ".py",
   "mimetype": "text/x-python",
   "name": "python",
   "nbconvert_exporter": "python",
   "pygments_lexer": "ipython3",
   "version": "3.7.7"
  }
 },
 "nbformat": 4,
 "nbformat_minor": 4
}
