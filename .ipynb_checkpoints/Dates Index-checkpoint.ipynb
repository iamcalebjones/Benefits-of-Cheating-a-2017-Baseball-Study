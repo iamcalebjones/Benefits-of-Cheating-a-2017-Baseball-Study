{
 "cells": [
  {
   "cell_type": "code",
   "execution_count": 56,
   "metadata": {},
   "outputs": [],
   "source": [
    "import pandas as pd"
   ]
  },
  {
   "cell_type": "code",
   "execution_count": 57,
   "metadata": {},
   "outputs": [],
   "source": [
    "mo = ['04', '05', '06', '07', '08', '09']\n",
    "days = list(range(1,32))"
   ]
  },
  {
   "cell_type": "code",
   "execution_count": 58,
   "metadata": {},
   "outputs": [],
   "source": [
    "baseball_year = []\n",
    "for i in mo:\n",
    "    for j in days:\n",
    "        if len(str(j)) == 1:\n",
    "            baseball_year.append(i + '-0' + str(j))\n",
    "        else:\n",
    "            baseball_year.append(i + '-' +str(j))"
   ]
  },
  {
   "cell_type": "code",
   "execution_count": 59,
   "metadata": {},
   "outputs": [
    {
     "data": {
      "text/plain": [
       "'09-31'"
      ]
     },
     "execution_count": 59,
     "metadata": {},
     "output_type": "execute_result"
    }
   ],
   "source": [
    "baseball_year.pop(baseball_year.index('04-31'))\n",
    "baseball_year.pop(baseball_year.index('06-31'))\n",
    "baseball_year.pop(baseball_year.index('09-31'))"
   ]
  },
  {
   "cell_type": "code",
   "execution_count": 60,
   "metadata": {},
   "outputs": [],
   "source": [
    "baseball_year.append('10-01')\n",
    "baseball_year.append('10-02')\n",
    "baseball_year.append('10-03')\n",
    "baseball_year.append('10-04')\n",
    "baseball_year.append('10-05')"
   ]
  },
  {
   "cell_type": "code",
   "execution_count": 67,
   "metadata": {},
   "outputs": [],
   "source": [
    "baseball_year.insert(0, '03-31')"
   ]
  },
  {
   "cell_type": "code",
   "execution_count": 79,
   "metadata": {},
   "outputs": [],
   "source": [
    "baseball_year.insert(0, '03-30')"
   ]
  },
  {
   "cell_type": "code",
   "execution_count": 80,
   "metadata": {},
   "outputs": [
    {
     "data": {
      "text/plain": [
       "['03-30',\n",
       " '03-31',\n",
       " '04-01',\n",
       " '04-02',\n",
       " '04-03',\n",
       " '04-04',\n",
       " '04-05',\n",
       " '04-06',\n",
       " '04-07',\n",
       " '04-08',\n",
       " '04-09',\n",
       " '04-10',\n",
       " '04-11',\n",
       " '04-12',\n",
       " '04-13',\n",
       " '04-14',\n",
       " '04-15',\n",
       " '04-16',\n",
       " '04-17',\n",
       " '04-18',\n",
       " '04-19',\n",
       " '04-20',\n",
       " '04-21',\n",
       " '04-22',\n",
       " '04-23',\n",
       " '04-24',\n",
       " '04-25',\n",
       " '04-26',\n",
       " '04-27',\n",
       " '04-28',\n",
       " '04-29',\n",
       " '04-30',\n",
       " '05-01',\n",
       " '05-02',\n",
       " '05-03',\n",
       " '05-04',\n",
       " '05-05',\n",
       " '05-06',\n",
       " '05-07',\n",
       " '05-08',\n",
       " '05-09',\n",
       " '05-10',\n",
       " '05-11',\n",
       " '05-12',\n",
       " '05-13',\n",
       " '05-14',\n",
       " '05-15',\n",
       " '05-16',\n",
       " '05-17',\n",
       " '05-18',\n",
       " '05-19',\n",
       " '05-20',\n",
       " '05-21',\n",
       " '05-22',\n",
       " '05-23',\n",
       " '05-24',\n",
       " '05-25',\n",
       " '05-26',\n",
       " '05-27',\n",
       " '05-28',\n",
       " '05-29',\n",
       " '05-30',\n",
       " '05-31',\n",
       " '06-01',\n",
       " '06-02',\n",
       " '06-03',\n",
       " '06-04',\n",
       " '06-05',\n",
       " '06-06',\n",
       " '06-07',\n",
       " '06-08',\n",
       " '06-09',\n",
       " '06-10',\n",
       " '06-11',\n",
       " '06-12',\n",
       " '06-13',\n",
       " '06-14',\n",
       " '06-15',\n",
       " '06-16',\n",
       " '06-17',\n",
       " '06-18',\n",
       " '06-19',\n",
       " '06-20',\n",
       " '06-21',\n",
       " '06-22',\n",
       " '06-23',\n",
       " '06-24',\n",
       " '06-25',\n",
       " '06-26',\n",
       " '06-27',\n",
       " '06-28',\n",
       " '06-29',\n",
       " '06-30',\n",
       " '07-01',\n",
       " '07-02',\n",
       " '07-03',\n",
       " '07-04',\n",
       " '07-05',\n",
       " '07-06',\n",
       " '07-07',\n",
       " '07-08',\n",
       " '07-09',\n",
       " '07-10',\n",
       " '07-11',\n",
       " '07-12',\n",
       " '07-13',\n",
       " '07-14',\n",
       " '07-15',\n",
       " '07-16',\n",
       " '07-17',\n",
       " '07-18',\n",
       " '07-19',\n",
       " '07-20',\n",
       " '07-21',\n",
       " '07-22',\n",
       " '07-23',\n",
       " '07-24',\n",
       " '07-25',\n",
       " '07-26',\n",
       " '07-27',\n",
       " '07-28',\n",
       " '07-29',\n",
       " '07-30',\n",
       " '07-31',\n",
       " '08-01',\n",
       " '08-02',\n",
       " '08-03',\n",
       " '08-04',\n",
       " '08-05',\n",
       " '08-06',\n",
       " '08-07',\n",
       " '08-08',\n",
       " '08-09',\n",
       " '08-10',\n",
       " '08-11',\n",
       " '08-12',\n",
       " '08-13',\n",
       " '08-14',\n",
       " '08-15',\n",
       " '08-16',\n",
       " '08-17',\n",
       " '08-18',\n",
       " '08-19',\n",
       " '08-20',\n",
       " '08-21',\n",
       " '08-22',\n",
       " '08-23',\n",
       " '08-24',\n",
       " '08-25',\n",
       " '08-26',\n",
       " '08-27',\n",
       " '08-28',\n",
       " '08-29',\n",
       " '08-30',\n",
       " '08-31',\n",
       " '09-01',\n",
       " '09-02',\n",
       " '09-03',\n",
       " '09-04',\n",
       " '09-05',\n",
       " '09-06',\n",
       " '09-07',\n",
       " '09-08',\n",
       " '09-09',\n",
       " '09-10',\n",
       " '09-11',\n",
       " '09-12',\n",
       " '09-13',\n",
       " '09-14',\n",
       " '09-15',\n",
       " '09-16',\n",
       " '09-17',\n",
       " '09-18',\n",
       " '09-19',\n",
       " '09-20',\n",
       " '09-21',\n",
       " '09-22',\n",
       " '09-23',\n",
       " '09-24',\n",
       " '09-25',\n",
       " '09-26',\n",
       " '09-27',\n",
       " '09-28',\n",
       " '09-29',\n",
       " '09-30',\n",
       " '10-01',\n",
       " '10-02',\n",
       " '10-03',\n",
       " '10-04',\n",
       " '10-05']"
      ]
     },
     "execution_count": 80,
     "metadata": {},
     "output_type": "execute_result"
    }
   ],
   "source": [
    "baseball_year"
   ]
  },
  {
   "cell_type": "code",
   "execution_count": 81,
   "metadata": {},
   "outputs": [],
   "source": [
    "baseball_year_index = pd.DataFrame(baseball_year)"
   ]
  },
  {
   "cell_type": "code",
   "execution_count": 82,
   "metadata": {},
   "outputs": [],
   "source": [
    "baseball_year_index.columns = ['DATE']"
   ]
  },
  {
   "cell_type": "code",
   "execution_count": 83,
   "metadata": {},
   "outputs": [],
   "source": [
    "baseball_year_index.to_csv('csv_from_scrape/baseball_dates_index.csv', index=False)"
   ]
  },
  {
   "cell_type": "code",
   "execution_count": 84,
   "metadata": {},
   "outputs": [],
   "source": [
    "test = pd.read_csv('csv_from_scrape/baseball_dates_index.csv')"
   ]
  },
  {
   "cell_type": "code",
   "execution_count": 85,
   "metadata": {},
   "outputs": [
    {
     "data": {
      "text/html": [
       "<div>\n",
       "<style scoped>\n",
       "    .dataframe tbody tr th:only-of-type {\n",
       "        vertical-align: middle;\n",
       "    }\n",
       "\n",
       "    .dataframe tbody tr th {\n",
       "        vertical-align: top;\n",
       "    }\n",
       "\n",
       "    .dataframe thead th {\n",
       "        text-align: right;\n",
       "    }\n",
       "</style>\n",
       "<table border=\"1\" class=\"dataframe\">\n",
       "  <thead>\n",
       "    <tr style=\"text-align: right;\">\n",
       "      <th></th>\n",
       "      <th>DATE</th>\n",
       "    </tr>\n",
       "  </thead>\n",
       "  <tbody>\n",
       "    <tr>\n",
       "      <th>0</th>\n",
       "      <td>03-30</td>\n",
       "    </tr>\n",
       "    <tr>\n",
       "      <th>1</th>\n",
       "      <td>03-31</td>\n",
       "    </tr>\n",
       "    <tr>\n",
       "      <th>2</th>\n",
       "      <td>04-01</td>\n",
       "    </tr>\n",
       "    <tr>\n",
       "      <th>3</th>\n",
       "      <td>04-02</td>\n",
       "    </tr>\n",
       "    <tr>\n",
       "      <th>4</th>\n",
       "      <td>04-03</td>\n",
       "    </tr>\n",
       "  </tbody>\n",
       "</table>\n",
       "</div>"
      ],
      "text/plain": [
       "    DATE\n",
       "0  03-30\n",
       "1  03-31\n",
       "2  04-01\n",
       "3  04-02\n",
       "4  04-03"
      ]
     },
     "execution_count": 85,
     "metadata": {},
     "output_type": "execute_result"
    }
   ],
   "source": [
    "test.head()"
   ]
  },
  {
   "cell_type": "markdown",
   "metadata": {},
   "source": [
    "### The next cell needs to be done when importing baseball_dates_index.csv to get rid of unnecessary random column and to set the index to the dates for the next step which will be combining the dates from each player's year .csv files."
   ]
  },
  {
   "cell_type": "code",
   "execution_count": 78,
   "metadata": {
    "scrolled": true
   },
   "outputs": [
    {
     "data": {
      "text/html": [
       "<div>\n",
       "<style scoped>\n",
       "    .dataframe tbody tr th:only-of-type {\n",
       "        vertical-align: middle;\n",
       "    }\n",
       "\n",
       "    .dataframe tbody tr th {\n",
       "        vertical-align: top;\n",
       "    }\n",
       "\n",
       "    .dataframe thead th {\n",
       "        text-align: right;\n",
       "    }\n",
       "</style>\n",
       "<table border=\"1\" class=\"dataframe\">\n",
       "  <thead>\n",
       "    <tr style=\"text-align: right;\">\n",
       "      <th></th>\n",
       "    </tr>\n",
       "    <tr>\n",
       "      <th>DATE</th>\n",
       "    </tr>\n",
       "  </thead>\n",
       "  <tbody>\n",
       "    <tr>\n",
       "      <th>03-31</th>\n",
       "    </tr>\n",
       "    <tr>\n",
       "      <th>04-01</th>\n",
       "    </tr>\n",
       "    <tr>\n",
       "      <th>04-02</th>\n",
       "    </tr>\n",
       "    <tr>\n",
       "      <th>04-03</th>\n",
       "    </tr>\n",
       "    <tr>\n",
       "      <th>04-04</th>\n",
       "    </tr>\n",
       "    <tr>\n",
       "      <th>...</th>\n",
       "    </tr>\n",
       "    <tr>\n",
       "      <th>10-01</th>\n",
       "    </tr>\n",
       "    <tr>\n",
       "      <th>10-02</th>\n",
       "    </tr>\n",
       "    <tr>\n",
       "      <th>10-03</th>\n",
       "    </tr>\n",
       "    <tr>\n",
       "      <th>10-04</th>\n",
       "    </tr>\n",
       "    <tr>\n",
       "      <th>10-05</th>\n",
       "    </tr>\n",
       "  </tbody>\n",
       "</table>\n",
       "<p>189 rows × 0 columns</p>\n",
       "</div>"
      ],
      "text/plain": [
       "Empty DataFrame\n",
       "Columns: []\n",
       "Index: [03-31, 04-01, 04-02, 04-03, 04-04, 04-05, 04-06, 04-07, 04-08, 04-09, 04-10, 04-11, 04-12, 04-13, 04-14, 04-15, 04-16, 04-17, 04-18, 04-19, 04-20, 04-21, 04-22, 04-23, 04-24, 04-25, 04-26, 04-27, 04-28, 04-29, 04-30, 05-01, 05-02, 05-03, 05-04, 05-05, 05-06, 05-07, 05-08, 05-09, 05-10, 05-11, 05-12, 05-13, 05-14, 05-15, 05-16, 05-17, 05-18, 05-19, 05-20, 05-21, 05-22, 05-23, 05-24, 05-25, 05-26, 05-27, 05-28, 05-29, 05-30, 05-31, 06-01, 06-02, 06-03, 06-04, 06-05, 06-06, 06-07, 06-08, 06-09, 06-10, 06-11, 06-12, 06-13, 06-14, 06-15, 06-16, 06-17, 06-18, 06-19, 06-20, 06-21, 06-22, 06-23, 06-24, 06-25, 06-26, 06-27, 06-28, 06-29, 06-30, 07-01, 07-02, 07-03, 07-04, 07-05, 07-06, 07-07, 07-08, ...]\n",
       "\n",
       "[189 rows x 0 columns]"
      ]
     },
     "execution_count": 78,
     "metadata": {},
     "output_type": "execute_result"
    }
   ],
   "source": [
    "test.set_index('DATE')"
   ]
  },
  {
   "cell_type": "code",
   "execution_count": null,
   "metadata": {},
   "outputs": [],
   "source": []
  }
 ],
 "metadata": {
  "kernelspec": {
   "display_name": "Python 3",
   "language": "python",
   "name": "python3"
  },
  "language_info": {
   "codemirror_mode": {
    "name": "ipython",
    "version": 3
   },
   "file_extension": ".py",
   "mimetype": "text/x-python",
   "name": "python",
   "nbconvert_exporter": "python",
   "pygments_lexer": "ipython3",
   "version": "3.7.7"
  }
 },
 "nbformat": 4,
 "nbformat_minor": 4
}
