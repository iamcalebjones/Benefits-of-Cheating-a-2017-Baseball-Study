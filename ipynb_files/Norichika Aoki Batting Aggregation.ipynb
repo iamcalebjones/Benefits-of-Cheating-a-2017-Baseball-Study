{
 "cells": [
  {
   "cell_type": "code",
   "execution_count": 1,
   "metadata": {},
   "outputs": [],
   "source": [
    "import pandas as pd\n",
    "from functools import reduce\n",
    "\n",
    "pd.set_option('display.max_rows', None)\n",
    "\n",
    "dates = pd.read_csv('csv_from_scrape/baseball_dates_index.csv')\n",
    "\n",
    "frames = [dates]"
   ]
  },
  {
   "cell_type": "code",
   "execution_count": 2,
   "metadata": {},
   "outputs": [],
   "source": [
    "aoki_2012 = pd.read_csv('csv_from_scrape/aoki_2012_df.csv')\n",
    "aoki_2012.columns.values[1] = 'DATE'\n",
    "aoki_2012.columns.values[2] = '2012 Batting Averages'\n",
    "aoki_2012.drop('Unnamed: 0', axis = 1)\n",
    "frames.append(aoki_2012)"
   ]
  },
  {
   "cell_type": "code",
   "execution_count": 3,
   "metadata": {},
   "outputs": [],
   "source": [
    "aoki_2013 = pd.read_csv('csv_from_scrape/aoki_2013_df.csv')\n",
    "aoki_2013.columns.values[1] = 'DATE'\n",
    "aoki_2013.columns.values[2] = '2013 Batting Averages'\n",
    "aoki_2013.drop('Unnamed: 0', axis = 1)\n",
    "frames.append(aoki_2013)"
   ]
  },
  {
   "cell_type": "code",
   "execution_count": 4,
   "metadata": {},
   "outputs": [],
   "source": [
    "aoki_2014 = pd.read_csv('csv_from_scrape/aoki_2014_df.csv')\n",
    "aoki_2014.columns.values[1] = 'DATE'\n",
    "aoki_2014.columns.values[2] = '2014 Batting Averages'\n",
    "aoki_2014.drop('Unnamed: 0', axis = 1)\n",
    "frames.append(aoki_2014)"
   ]
  },
  {
   "cell_type": "code",
   "execution_count": 5,
   "metadata": {},
   "outputs": [],
   "source": [
    "aoki_2015 = pd.read_csv('csv_from_scrape/aoki_2015_df.csv')\n",
    "aoki_2015.columns.values[1] = 'DATE'\n",
    "aoki_2015.columns.values[2] = '2015 Batting Averages'\n",
    "aoki_2015.drop('Unnamed: 0', axis = 1)\n",
    "frames.append(aoki_2015)"
   ]
  },
  {
   "cell_type": "code",
   "execution_count": 6,
   "metadata": {},
   "outputs": [],
   "source": [
    "aoki_2016 = pd.read_csv('csv_from_scrape/aoki_2016_df.csv')\n",
    "aoki_2016.columns.values[1] = 'DATE'\n",
    "aoki_2016.columns.values[2] = '2016 Batting Averages'\n",
    "aoki_2016.drop('Unnamed: 0', axis = 1)\n",
    "frames.append(aoki_2016)"
   ]
  },
  {
   "cell_type": "code",
   "execution_count": 7,
   "metadata": {},
   "outputs": [],
   "source": [
    "aoki_2017 = pd.read_csv('csv_from_scrape/aoki_2017_df.csv')\n",
    "aoki_2017.columns.values[1] = 'DATE'\n",
    "aoki_2017.columns.values[2] = '2017 Batting Averages'\n",
    "aoki_2017.drop('Unnamed: 0', axis = 1)\n",
    "frames.append(aoki_2017)"
   ]
  },
  {
   "cell_type": "code",
   "execution_count": 11,
   "metadata": {},
   "outputs": [],
   "source": [
    "drops = ['Unnamed: 0_x', 'Unnamed: 0_y']"
   ]
  },
  {
   "cell_type": "code",
   "execution_count": 9,
   "metadata": {},
   "outputs": [],
   "source": [
    "df_merged = reduce(lambda  left,right: pd.merge(left,right,on=['DATE'], how='outer'), frames)"
   ]
  },
  {
   "cell_type": "code",
   "execution_count": 12,
   "metadata": {},
   "outputs": [],
   "source": [
    "aoki_batting = df_merged.drop(drops, axis = 1)"
   ]
  },
  {
   "cell_type": "code",
   "execution_count": 14,
   "metadata": {},
   "outputs": [],
   "source": [
    "aoki_batting.to_csv('data_aggregated/aoki_batting.csv', index=False)"
   ]
  },
  {
   "cell_type": "code",
   "execution_count": null,
   "metadata": {},
   "outputs": [],
   "source": []
  }
 ],
 "metadata": {
  "kernelspec": {
   "display_name": "Python 3",
   "language": "python",
   "name": "python3"
  },
  "language_info": {
   "codemirror_mode": {
    "name": "ipython",
    "version": 3
   },
   "file_extension": ".py",
   "mimetype": "text/x-python",
   "name": "python",
   "nbconvert_exporter": "python",
   "pygments_lexer": "ipython3",
   "version": "3.7.7"
  }
 },
 "nbformat": 4,
 "nbformat_minor": 4
}
