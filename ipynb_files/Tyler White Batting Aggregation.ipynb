{
 "cells": [
  {
   "cell_type": "code",
   "execution_count": 1,
   "metadata": {},
   "outputs": [],
   "source": [
    "import pandas as pd\n",
    "from functools import reduce\n",
    "\n",
    "pd.set_option('display.max_rows', None)\n",
    "\n",
    "dates = pd.read_csv('csv_from_scrape/baseball_dates_index.csv')\n",
    "\n",
    "frames = [dates]"
   ]
  },
  {
   "cell_type": "code",
   "execution_count": 2,
   "metadata": {},
   "outputs": [],
   "source": [
    "white_2016 = pd.read_csv('csv_from_scrape/white_2016_df.csv')\n",
    "white_2016.columns.values[1] = 'DATE'\n",
    "white_2016.columns.values[2] = '2016 Batting Averages'\n",
    "white_2016.drop('Unnamed: 0', axis = 1)\n",
    "frames.append(white_2016)"
   ]
  },
  {
   "cell_type": "code",
   "execution_count": 3,
   "metadata": {},
   "outputs": [],
   "source": [
    "white_2017 = pd.read_csv('csv_from_scrape/white_2017_df.csv')\n",
    "white_2017.columns.values[1] = 'DATE'\n",
    "white_2017.columns.values[2] = '2017 Batting Averages'\n",
    "white_2017.drop('Unnamed: 0', axis = 1)\n",
    "frames.append(white_2017)"
   ]
  },
  {
   "cell_type": "code",
   "execution_count": 6,
   "metadata": {},
   "outputs": [],
   "source": [
    "drops = ['Unnamed: 0_x', 'Unnamed: 0_y']"
   ]
  },
  {
   "cell_type": "code",
   "execution_count": 4,
   "metadata": {},
   "outputs": [],
   "source": [
    "df_merged = reduce(lambda  left,right: pd.merge(left,right,on=['DATE'], how='outer'), frames)"
   ]
  },
  {
   "cell_type": "code",
   "execution_count": 7,
   "metadata": {},
   "outputs": [],
   "source": [
    "white_batting = df_merged.drop(drops, axis = 1)"
   ]
  },
  {
   "cell_type": "code",
   "execution_count": 8,
   "metadata": {},
   "outputs": [],
   "source": [
    "white_batting.to_csv('data_aggregated/white_batting.csv', index=False)"
   ]
  },
  {
   "cell_type": "code",
   "execution_count": null,
   "metadata": {},
   "outputs": [],
   "source": []
  }
 ],
 "metadata": {
  "kernelspec": {
   "display_name": "Python 3",
   "language": "python",
   "name": "python3"
  },
  "language_info": {
   "codemirror_mode": {
    "name": "ipython",
    "version": 3
   },
   "file_extension": ".py",
   "mimetype": "text/x-python",
   "name": "python",
   "nbconvert_exporter": "python",
   "pygments_lexer": "ipython3",
   "version": "3.7.7"
  }
 },
 "nbformat": 4,
 "nbformat_minor": 4
}
