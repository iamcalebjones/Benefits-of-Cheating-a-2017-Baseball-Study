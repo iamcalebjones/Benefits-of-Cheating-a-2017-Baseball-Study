{
 "cells": [
  {
   "cell_type": "code",
   "execution_count": 1,
   "metadata": {},
   "outputs": [],
   "source": [
    "import pandas as pd\n",
    "import requests\n",
    "import pprint\n",
    "from pymongo import MongoClient\n",
    "from bs4 import BeautifulSoup\n",
    "import json\n",
    "import time\n",
    "from lxml import html\n",
    "from io import StringIO\n",
    "from datetime import datetime"
   ]
  },
  {
   "cell_type": "markdown",
   "metadata": {},
   "source": [
    "### The first few years of data in this scrape worksheet have lots of annotations and printing out the list a lot to check what each step of the cleaning has given me. After I get it streamlined I'm just running the same lines of code for each next year of data that i'm scraping, no list printouts or annotations, its all the same for each year."
   ]
  },
  {
   "cell_type": "code",
   "execution_count": 2,
   "metadata": {},
   "outputs": [],
   "source": [
    "pd.set_option('display.max_columns', None)"
   ]
  },
  {
   "cell_type": "markdown",
   "metadata": {},
   "source": [
    "# 2017 Scrape: Jose Altuve"
   ]
  },
  {
   "cell_type": "code",
   "execution_count": 3,
   "metadata": {},
   "outputs": [],
   "source": [
    "xpath = \"//pre[5]/text()\"\n",
    "url = \"https://www.retrosheet.org/boxesetc/2017/Ialtuj0010072017.htm\"\n",
    "r = requests.get(url)\n",
    "page = html.parse(StringIO(r.text))\n",
    "altuve_2017 = page.xpath(xpath)"
   ]
  },
  {
   "cell_type": "code",
   "execution_count": 4,
   "metadata": {},
   "outputs": [
    {
     "data": {
      "text/plain": [
       "['   Date    #         Opponent  GS  AB   R   H  2B  3B  HR RBI  BB IBB  SO HBP  SH  SF  XI ROE GDP  SB  CS   AVG   OBP   SLG  BP  Pos\\n',\n",
       " '   ',\n",
       " ' VS SEA A   1   4   0   1   0   0   0   0   0   0   2   0   0   0   0   0   0   0   0  .250  .250  .250   3  2b\\n',\n",
       " '   ',\n",
       " ' VS SEA A   1   3   0   1   0   0   0   0   0   0   0   0   0   0   0   0   0   0   0  .286  .286  .286   3  2b\\n',\n",
       " '   ',\n",
       " ' VS SEA A   1   6   0   0   0   0   0   0   0   0   2   0   0   0   0   1   0   0   0  .154  .154  .154   3  2b\\n',\n",
       " '   ',\n",
       " ' VS SEA A   1   4   0   1   0   0   0   0   0   0   2   0   0   0   0   0   1   0   0  .176  .176  .176   3  2b\\n',\n",
       " '   ',\n",
       " ' VS KC  A   1   4   0   0   0   0   0   0   0   0   2   0   0   0   0   0   2   0   0  .143  .143  .143   3  2b\\n',\n",
       " '   ',\n",
       " ' VS KC  A   1   4   0   1   0   0   0   0   0   0   0   0   0   0   0   0   0   0   0  .160  .160  .160   3  2b\\n',\n",
       " '   ',\n",
       " ' VS KC  A   1   5   0   2   0   0   0   0   1   1   0   0   0   0   0   0   0   1   0  .200  .226  .200   3  2b\\n',\n",
       " '   ',\n",
       " ' AT SEA A   1   2   0   0   0   0   0   0   2   0   0   0   0   0   0   0   0   0   0  .188  .257  .188   3  2b\\n',\n",
       " '   ',\n",
       " ' AT SEA A   1   5   1   2   1   0   0   1   0   0   1   0   0   0   0   0   0   1   0  .216  .275  .243   3  2b\\n',\n",
       " '   ',\n",
       " ' AT SEA A   1   3   3   3   0   0   0   0   2   1   0   0   0   0   0   0   0   0   0  .275  .356  .300   3  2b\\n',\n",
       " '   ',\n",
       " ' AT OAK A   1   3   2   3   2   0   0   0   2   0   0   0   0   0   0   0   0   1   0  .326  .420  .395   3  2b\\n',\n",
       " '   ',\n",
       " ' AT OAK A   1   4   1   1   0   0   0   1   1   0   1   0   0   0   0   0   0   2   0  .319  .418  .383   3  2b\\n',\n",
       " '   ',\n",
       " ' VS ANA A   1   3   0   1   1   0   0   2   0   0   1   0   0   1   0   0   0   0   0  .320  .407  .400   3  2b\\n',\n",
       " '   ',\n",
       " ' VS ANA A   1   4   0   2   0   0   0   0   0   0   2   0   0   0   0   0   0   0   0  .333  .413  .407   3  2b\\n',\n",
       " '   ',\n",
       " ' VS ANA A   1   4   0   1   0   0   0   1   0   0   1   0   0   0   0   0   0   1   0  .328  .403  .397   3  2b\\n',\n",
       " '   ',\n",
       " ' VS ANA A   1   3   0   0   0   0   0   0   0   0   1   0   0   0   0   0   0   0   0  .311  .386  .377   3  2b\\n',\n",
       " '   ',\n",
       " ' AT TB  A   1   5   0   1   0   0   0   0   0   0   1   0   0   0   0   1   0   0   0  .303  .373  .364   3  2b\\n',\n",
       " '   ',\n",
       " ' AT TB  A   1   3   2   1   0   0   1   1   1   0   1   0   0   0   0   0   0   1   0  .304  .380  .406   3  2b\\n',\n",
       " '   ',\n",
       " ' AT TB  A   1   5   2   3   0   0   1   1   0   0   1   0   0   0   0   0   0   0   0  .324  .393  .459   3  2b\\n',\n",
       " '   ',\n",
       " ' AT CLE A   1   3   0   0   0   0   0   0   1   0   2   0   0   0   0   0   0   0   0  .312  .386  .442   3  2b\\n   Date    #         Opponent  GS  AB   R   H  2B  3B  HR RBI  BB IBB  SO HBP  SH  SF  XI ROE GDP  SB  CS   AVG   OBP   SLG  BP  Pos\\n',\n",
       " '   ',\n",
       " ' AT CLE A   0   1   0   1   0   0   0   0   0   0   0   0   0   0   0   0   0   0   1  .321  .393  .449   9  ph\\n',\n",
       " '   ',\n",
       " ' VS OAK A   1   4   1   0   0   0   0   0   1   0   0   0   0   0   0   0   0   0   0  .305  .383  .427   3  2b\\n',\n",
       " '   ',\n",
       " ' VS OAK A   1   3   1   2   0   0   1   1   0   0   1   1   0   0   0   0   0   0   0  .318  .398  .471   3  2b\\n',\n",
       " '   ',\n",
       " ' VS OAK A   1   4   0   2   0   0   0   0   0   0   2   0   0   0   0   0   0   0   0  .326  .402  .472   3  2b\\n',\n",
       " '   ',\n",
       " ' VS TEX A   1   3   2   1   1   0   0   1   0   0   0   1   0   0   0   0   1   1   0  .326  .406  .478   3  2b\\n',\n",
       " '   ',\n",
       " ' VS TEX A   1   3   2   1   0   0   1   2   1   0   1   0   0   0   0   0   0   0   0  .326  .409  .505   3  2b\\n',\n",
       " '   ',\n",
       " ' VS TEX A   1   5   0   0   0   0   0   0   0   0   0   0   0   0   0   0   1   0   0  .310  .391  .480   3  2b\\n',\n",
       " '   ',\n",
       " ' VS TEX A   1   6   0   1   0   0   0   0   0   0   2   0   0   0   0   0   1   0   0  .302  .380  .462   2  2b\\n',\n",
       " '   ',\n",
       " ' AT ANA A   1   5   1   1   0   0   0   0   0   0   0   0   0   0   0   0   1   1   0  .297  .373  .450   3  2b\\n',\n",
       " '   ',\n",
       " ' AT ANA A   0   0   0   0   0   0   0   0   0   0   0   0   0   0   0   0   0   0   1  .297  .373  .450   8  pr,2b\\n',\n",
       " '   ',\n",
       " ' AT ANA A   1   4   1   2   0   0   1   3   0   0   0   0   0   0   0   0   0   0   0  .304  .377  .478   3  2b\\n',\n",
       " '   ',\n",
       " ' VS ATL N   1   4   1   1   0   0   0   1   0   0   0   0   0   0   0   0   0   0   0  .303  .373  .471   3  2b\\n',\n",
       " '   ',\n",
       " ' VS ATL N   1   3   1   0   0   0   0   0   1   0   0   0   0   0   0   0   1   0   0  .295  .370  .459   3  2b\\n',\n",
       " '   ',\n",
       " ' AT NY  A   1   4   0   1   1   0   0   0   0   0   0   0   0   0   0   0   0   0   0  .294  .366  .460   3  2b\\n',\n",
       " '   ',\n",
       " ' AT NY  A   1   5   0   2   0   0   0   0   0   0   0   0   0   0   0   0   0   0   0  .298  .367  .458   3  2b\\n',\n",
       " ' 1 ',\n",
       " ' AT NY  A   1   4   2   0   0   0   0   0   1   0   1   0   0   0   0   0   0   0   0  .289  .362  .444   3  dh\\n',\n",
       " ' 2 ',\n",
       " ' AT NY  A   1   5   0   1   0   0   0   0   0   0   0   0   0   0   0   0   0   0   0  .286  .357  .436   3  2b\\n',\n",
       " '   ',\n",
       " ' AT MIA N   1   4   1   2   0   0   1   3   0   0   0   1   0   0   0   0   0   0   0  .292  .364  .458   3  2b\\n',\n",
       " '   ',\n",
       " ' AT MIA N   1   2   2   1   0   0   0   0   2   0   0   0   0   0   0   0   0   0   0  .295  .373  .459   3  2b\\n',\n",
       " '   ',\n",
       " ' AT MIA N   1   5   0   4   2   2   0   1   0   0   1   0   0   0   0   0   0   0   0  .311  .386  .510   3  2b\\n   Date    #         Opponent  GS  AB   R   H  2B  3B  HR RBI  BB IBB  SO HBP  SH  SF  XI ROE GDP  SB  CS   AVG   OBP   SLG  BP  Pos\\n',\n",
       " '   ',\n",
       " ' VS CLE A   1   4   1   1   0   0   0   0   0   0   1   0   0   0   0   0   0   0   0  .310  .383  .503   3  2b\\n',\n",
       " '   ',\n",
       " ' VS CLE A   1   4   0   1   0   0   0   0   0   0   1   0   0   0   0   0   0   0   0  .308  .380  .497   3  2b\\n',\n",
       " '   ',\n",
       " ' VS CLE A   1   4   1   1   0   0   1   2   0   0   1   0   0   0   0   0   0   0   0  .307  .377  .509   3  2b\\n',\n",
       " '   ',\n",
       " ' VS DET A   1   4   0   1   1   0   0   1   0   0   1   0   0   0   0   0   0   0   0  .305  .374  .509   3  2b\\n',\n",
       " '   ',\n",
       " ' VS DET A   1   4   0   0   0   0   0   0   0   0   0   0   0   0   0   1   0   0   0  .298  .366  .497   3  2b\\n',\n",
       " '   ',\n",
       " ' VS DET A   1   4   0   1   1   0   0   0   0   0   0   0   0   0   0   0   0   0   0  .297  .364  .497   3  2b\\n',\n",
       " '   ',\n",
       " ' VS DET A   1   3   1   1   0   0   0   0   1   0   1   0   0   0   0   0   0   0   0  .298  .367  .494   3  2b\\n',\n",
       " '   ',\n",
       " ' VS BAL A   1   4   0   0   0   0   0   0   0   0   1   0   0   0   0   0   0   0   0  .291  .360  .484   3  2b\\n',\n",
       " '   ',\n",
       " ' VS BAL A   1   4   2   3   2   0   0   1   0   0   0   0   0   0   0   0   0   1   0  .301  .367  .500   2  2b\\n',\n",
       " '   ',\n",
       " ' VS BAL A   1   4   0   1   0   0   0   1   0   0   0   0   0   0   0   0   0   0   0  .300  .365  .495   3  2b\\n',\n",
       " '   ',\n",
       " ' AT MIN A   1   5   2   3   1   0   0   1   0   0   0   1   0   0   0   0   0   0   0  .308  .373  .503   3  2b\\n',\n",
       " '   ',\n",
       " ' AT MIN A   1   5   1   4   0   0   0   2   0   0   0   0   0   0   0   0   1   0   0  .320  .383  .510   3  2b\\n',\n",
       " '   ',\n",
       " ' AT MIN A   1   4   2   1   0   0   0   0   2   0   0   0   0   0   0   0   0   0   0  .319  .386  .505   2  2b\\n',\n",
       " '   ',\n",
       " ' AT TEX A   1   4   1   2   1   0   0   0   1   0   1   0   0   0   0   0   0   1   0  .322  .391  .510   3  2b\\n',\n",
       " '   ',\n",
       " ' AT TEX A   1   5   2   3   0   0   1   1   0   0   0   0   0   0   0   0   0   0   0  .329  .395  .526   3  2b\\n',\n",
       " '   ',\n",
       " ' AT TEX A   1   4   0   0   0   0   0   0   1   0   2   0   0   0   0   0   0   0   0  .323  .391  .516   2  2b\\n',\n",
       " '   ',\n",
       " ' AT KC  A   1   4   0   2   1   0   0   0   0   0   0   0   0   0   0   0   0   0   0  .326  .393  .520   3  2b\\n',\n",
       " '   ',\n",
       " ' AT KC  A   1   3   0   1   0   0   0   1   1   0   1   0   0   1   0   0   0   0   0  .326  .393  .518   3  2b\\n',\n",
       " '   ',\n",
       " ' AT KC  A   1   3   0   1   0   0   0   0   1   0   0   0   1   0   0   0   0   0   0  .326  .395  .515   3  2b\\n',\n",
       " '   ',\n",
       " ' AT KC  A   1   4   1   1   0   0   1   2   0   0   0   0   0   0   0   0   0   0   0  .325  .392  .524   3  2b\\n   Date    #         Opponent  GS  AB   R   H  2B  3B  HR RBI  BB IBB  SO HBP  SH  SF  XI ROE GDP  SB  CS   AVG   OBP   SLG  BP  Pos\\n',\n",
       " '   ',\n",
       " ' VS ANA A   1   4   0   0   0   0   0   0   0   0   1   0   0   0   0   0   1   0   0  .319  .386  .515   2  2b\\n',\n",
       " '   ',\n",
       " ' VS ANA A   1   3   0   2   0   0   0   0   1   0   0   0   0   0   0   0   0   0   0  .324  .392  .517   3  2b\\n',\n",
       " '   ',\n",
       " ' VS ANA A   1   4   0   1   0   0   0   1   1   0   0   0   0   0   0   0   0   0   0  .322  .392  .512   3  2b\\n',\n",
       " '   ',\n",
       " ' VS TEX A   1   4   0   0   0   0   0   0   0   0   0   0   0   0   0   0   0   0   0  .317  .386  .504   3  2b\\n',\n",
       " '   ',\n",
       " ' VS TEX A   1   4   0   0   0   0   0   0   0   0   1   0   0   0   0   0   0   0   0  .312  .381  .496   3  2b\\n',\n",
       " '   ',\n",
       " ' VS TEX A   1   3   3   3   2   0   0   0   0   0   0   1   0   0   0   0   0   0   0  .320  .389  .510   2  2b\\n',\n",
       " '   ',\n",
       " ' VS BOS A   1   3   0   2   1   0   0   0   1   0   0   0   0   0   0   0   1   1   0  .324  .394  .516   2  2b\\n',\n",
       " '   ',\n",
       " ' VS BOS A   1   4   2   2   1   0   1   2   0   0   0   0   0   0   0   0   0   0   0  .327  .396  .531   3  2b\\n',\n",
       " '   ',\n",
       " ' VS BOS A   1   3   1   2   1   0   0   0   2   0   0   0   0   0   0   0   0   0   0  .331  .403  .536   2  2b\\n',\n",
       " '   ',\n",
       " ' AT OAK A   1   4   0   0   0   0   0   0   0   0   1   0   0   0   0   0   0   0   0  .326  .397  .528   3  2b\\n',\n",
       " '   ',\n",
       " ' AT OAK A   1   4   0   1   0   0   0   0   1   0   1   0   0   0   0   0   0   0   0  .325  .397  .524   3  2b\\n',\n",
       " '   ',\n",
       " ' AT OAK A   1   5   1   1   0   0   0   0   0   0   0   0   0   0   0   0   0   0   0  .322  .394  .518   2  2b\\n',\n",
       " '   ',\n",
       " ' AT SEA A   1   3   1   1   0   0   1   1   1   0   0   0   0   0   0   0   0   0   0  .323  .396  .527   3  2b\\n',\n",
       " '   ',\n",
       " ' AT SEA A   1   5   0   1   1   0   0   0   0   0   1   0   0   0   0   0   0   0   0  .320  .393  .525   3  2b\\n',\n",
       " '   ',\n",
       " ' AT SEA A   1   4   1   1   0   0   0   1   1   0   0   0   0   0   0   0   0   0   0  .319  .393  .521   2  2b\\n',\n",
       " '   ',\n",
       " ' VS OAK A   1   5   0   3   0   0   0   0   0   0   0   0   0   0   0   0   0   0   1  .324  .396  .522   2  2b\\n',\n",
       " '   ',\n",
       " ' VS OAK A   1   3   1   2   1   0   0   1   2   0   1   0   0   0   0   0   0   2   0  .328  .402  .527   3  2b\\n',\n",
       " '   ',\n",
       " ' VS OAK A   1   4   1   1   1   0   0   1   0   0   0   0   0   0   0   0   0   0   0  .327  .400  .527   3  2b\\n',\n",
       " '   ',\n",
       " ' VS NY  A   1   3   1   2   0   0   0   2   0   0   0   0   0   1   0   0   0   0   0  .330  .401  .528   3  2b\\n',\n",
       " '   ',\n",
       " ' VS NY  A   1   3   1   0   0   0   0   0   1   0   0   0   0   0   0   0   0   2   0  .327  .399  .523   2  2b\\n   Date    #         Opponent  GS  AB   R   H  2B  3B  HR RBI  BB IBB  SO HBP  SH  SF  XI ROE GDP  SB  CS   AVG   OBP   SLG  BP  Pos\\n',\n",
       " '   ',\n",
       " ' VS NY  A   1   4   0   1   0   0   0   0   0   0   1   0   0   0   0   0   0   0   0  .326  .398  .519   3  2b\\n',\n",
       " '   ',\n",
       " ' AT ATL N   1   5   2   3   1   0   1   4   1   0   1   0   0   0   0   0   0   0   0  .330  .402  .533   2  2b\\n',\n",
       " '   ',\n",
       " ' AT ATL N   1   5   2   3   1   0   0   1   0   0   0   0   0   0   0   0   0   1   0  .334  .405  .538   2  2b\\n',\n",
       " '   ',\n",
       " ' AT TOR A   1   5   0   3   0   0   0   2   0   0   0   0   0   0   0   0   0   1   1  .338  .408  .538   2  2b\\n',\n",
       " '   ',\n",
       " ' AT TOR A   1   5   1   3   0   0   0   0   0   0   0   0   0   0   0   0   0   0   0  .342  .410  .539   2  2b\\n',\n",
       " '   ',\n",
       " ' AT TOR A   1   4   4   3   0   0   1   3   2   0   0   0   0   0   0   0   1   0   0  .347  .417  .551   2  2b\\n',\n",
       " '   ',\n",
       " ' VS MIN A   1   4   1   2   1   0   0   0   1   0   0   0   0   0   0   0   0   0   0  .349  .419  .553   2  2b\\n',\n",
       " '   ',\n",
       " ' VS MIN A   1   4   1   1   0   0   1   1   0   0   0   1   0   0   0   0   0   0   0  .348  .419  .558   2  2b\\n',\n",
       " '   ',\n",
       " ' VS MIN A   1   4   1   2   1   0   0   0   0   0   0   0   0   0   0   0   0   1   0  .350  .420  .561   2  2b\\n',\n",
       " '   ',\n",
       " ' VS SEA A   1   6   0   1   0   0   0   0   0   0   2   0   0   0   0   0   0   0   0  .347  .416  .554   2  2b\\n',\n",
       " '   ',\n",
       " ' VS SEA A   1   4   0   3   0   0   0   1   0   0   0   0   0   0   0   0   0   0   0  .351  .419  .556   2  2b\\n',\n",
       " '   ',\n",
       " ' VS SEA A   1   4   0   2   0   0   0   0   0   0   1   0   0   0   0   0   0   0   1  .353  .420  .556   2  2b\\n',\n",
       " '   ',\n",
       " ' AT BAL A   1   4   1   1   0   0   0   1   1   0   1   0   0   0   0   0   0   1   0  .352  .420  .552   2  2b\\n',\n",
       " '   ',\n",
       " ' AT BAL A   1   5   1   2   0   0   0   0   0   0   1   0   0   0   0   0   0   0   0  .352  .420  .550   2  2b\\n',\n",
       " '   ',\n",
       " ' AT BAL A   1   5   1   4   1   0   1   3   0   0   0   0   0   0   0   0   0   1   0  .358  .424  .564   1  2b\\n',\n",
       " '   ',\n",
       " ' AT PHI N   1   4   3   4   2   0   0   3   1   0   0   0   0   0   0   0   0   0   0  .365  .431  .574   2  2b\\n',\n",
       " '   ',\n",
       " ' AT PHI N   1   4   1   1   1   0   0   0   0   0   1   0   0   0   0   0   0   0   0  .364  .429  .573   1  2b\\n',\n",
       " '   ',\n",
       " ' AT PHI N   1   4   0   2   1   0   0   0   0   0   1   0   0   0   0   0   0   0   0  .365  .430  .575   1  2b\\n',\n",
       " '   ',\n",
       " ' AT DET A   1   4   2   3   1   1   0   0   0   0   0   0   0   0   0   0   0   0   0  .369  .433  .585   2  2b\\n',\n",
       " '   ',\n",
       " ' AT DET A   1   4   0   0   0   0   0   0   0   0   0   0   0   0   0   0   0   0   0  .365  .429  .579   2  2b\\n   Date    #         Opponent  GS  AB   R   H  2B  3B  HR RBI  BB IBB  SO HBP  SH  SF  XI ROE GDP  SB  CS   AVG   OBP   SLG  BP  Pos\\n',\n",
       " '   ',\n",
       " ' AT DET A   1   4   0   2   0   0   0   0   0   0   0   0   0   0   0   0   1   0   0  .367  .430  .578   2  2b\\n',\n",
       " '   ',\n",
       " ' VS TB  A   1   4   0   2   0   0   0   2   0   0   0   0   0   0   0   0   0   1   0  .368  .430  .577   2  2b\\n',\n",
       " '   ',\n",
       " ' VS TB  A   1   4   0   0   0   0   0   0   0   0   1   0   0   0   0   0   0   0   0  .365  .426  .571   2  2b\\n',\n",
       " '   ',\n",
       " ' VS TB  A   1   4   0   0   0   0   0   0   0   0   0   0   0   0   0   1   1   1   0  .361  .423  .566   2  2b\\n',\n",
       " '   ',\n",
       " ' VS TB  A   1   4   1   3   0   0   1   1   0   0   1   0   0   0   0   0   0   1   0  .365  .425  .575   1  2b\\n',\n",
       " '   ',\n",
       " ' VS TOR A   1   4   0   0   0   0   0   0   0   0   0   0   0   0   0   0   0   0   0  .361  .422  .569   2  2b\\n',\n",
       " '   ',\n",
       " ' VS TOR A   1   5   2   3   0   0   0   1   0   0   2   0   0   0   0   0   0   0   0  .364  .424  .570   2  2b\\n',\n",
       " '   ',\n",
       " ' AT CHI A   1   4   1   2   0   0   1   1   1   0   0   0   0   0   0   0   0   0   0  .365  .426  .576   2  2b\\n',\n",
       " '   ',\n",
       " ' AT CHI A   1   4   0   1   1   0   0   0   0   0   0   0   0   0   0   0   0   0   0  .364  .424  .575   2  2b\\n',\n",
       " '   ',\n",
       " ' AT CHI A   1   5   0   2   0   0   0   0   0   0   0   0   0   0   0   0   1   1   0  .365  .424  .573   2  2b\\n',\n",
       " '   ',\n",
       " ' AT TEX A   1   5   0   1   0   0   0   0   0   0   2   0   0   0   0   0   1   0   0  .363  .422  .569   3  2b\\n',\n",
       " '   ',\n",
       " ' AT TEX A   1   2   1   0   0   0   0   0   2   0   0   0   0   0   0   0   0   1   0  .361  .422  .567   3  2b\\n',\n",
       " '   ',\n",
       " ' AT TEX A   1   4   1   2   0   0   1   1   0   0   0   0   0   0   0   0   0   0   0  .362  .423  .573   2  2b\\n',\n",
       " '   ',\n",
       " ' AT ARI N   1   4   0   1   0   0   0   0   0   0   3   0   0   0   0   1   0   0   0  .361  .421  .570   2  2b\\n',\n",
       " '   ',\n",
       " ' AT ARI N   1   4   1   2   1   0   0   0   1   0   1   0   0   0   0   0   0   0   0  .363  .423  .571   3  2b\\n',\n",
       " '   ',\n",
       " ' VS ARI N   1   4   1   2   0   0   0   1   0   0   0   0   0   1   0   0   1   0   0  .364  .423  .571   2  2b\\n',\n",
       " '   ',\n",
       " ' VS ARI N   1   4   0   0   0   0   0   0   0   0   2   0   0   0   0   0   0   0   0  .361  .420  .566   3  2b\\n',\n",
       " '   ',\n",
       " ' VS OAK A   1   4   1   2   0   0   1   1   0   0   0   0   0   0   0   0   0   1   0  .362  .420  .572   3  2b\\n',\n",
       " '   ',\n",
       " ' VS OAK A   1   3   1   2   0   0   0   0   1   0   0   0   0   0   0   0   1   1   1  .364  .423  .572   3  2b\\n',\n",
       " '   ',\n",
       " ' VS OAK A   1   3   0   0   0   0   0   0   1   0   0   0   0   0   0   0   0   1   0  .362  .422  .569   3  2b\\n   Date    #         Opponent  GS  AB   R   H  2B  3B  HR RBI  BB IBB  SO HBP  SH  SF  XI ROE GDP  SB  CS   AVG   OBP   SLG  BP  Pos\\n',\n",
       " '   ',\n",
       " ' VS WAS N   1   4   0   0   0   0   0   0   0   0   0   0   0   0   0   1   0   0   0  .358  .418  .564   3  2b\\n',\n",
       " '   ',\n",
       " ' VS WAS N   1   4   1   1   0   1   0   0   1   0   0   0   0   0   0   0   0   0   0  .358  .418  .565   3  2b\\n',\n",
       " '   ',\n",
       " ' VS WAS N   1   3   0   1   0   0   0   0   0   0   1   0   0   0   0   0   0   0   0  .357  .418  .564   3  2b\\n',\n",
       " '   ',\n",
       " ' AT ANA A   1   4   0   0   0   0   0   0   0   0   1   0   0   0   0   0   0   0   0  .355  .415  .559   3  2b\\n',\n",
       " '   ',\n",
       " ' AT ANA A   1   4   2   2   0   0   1   2   0   0   0   0   0   0   0   0   0   0   0  .356  .415  .565   3  2b\\n',\n",
       " '   ',\n",
       " ' VS TEX A   1   4   0   1   0   0   0   1   0   0   1   0   0   0   0   0   1   0   0  .355  .414  .563   3  2b\\n',\n",
       " '   ',\n",
       " ' VS TEX A   1   4   0   1   0   0   0   0   0   0   2   0   0   0   0   0   0   0   0  .354  .413  .560   3  2b\\n',\n",
       " '   ',\n",
       " ' VS TEX A   1   4   2   2   0   0   1   1   0   0   0   0   0   0   0   0   0   0   0  .355  .414  .565   3  2b\\n',\n",
       " ' 1 ',\n",
       " ' VS NY  N   1   4   3   3   1   0   0   1   0   0   0   0   0   0   0   0   0   0   0  .358  .416  .569   3  2b\\n',\n",
       " ' 2 ',\n",
       " ' VS NY  N   1   3   1   1   0   0   0   0   1   0   2   0   0   0   0   0   0   0   0  .358  .417  .568   3  dh\\n',\n",
       " '   ',\n",
       " ' VS NY  N   1   2   2   0   0   0   0   0   1   0   1   1   0   0   0   0   0   2   0  .357  .417  .565   3  2b\\n',\n",
       " '   ',\n",
       " ' AT SEA A   1   4   0   0   0   0   0   0   1   1   1   0   0   0   0   0   0   0   0  .354  .415  .561   3  2b\\n',\n",
       " '   ',\n",
       " ' AT SEA A   1   4   0   0   0   0   0   0   0   0   0   0   0   0   0   0   0   0   0  .351  .412  .557   3  2b\\n',\n",
       " '   ',\n",
       " ' AT OAK A   1   5   2   2   1   0   1   2   0   0   0   0   0   0   0   0   0   0   0  .352  .412  .563   2  2b\\n',\n",
       " ' 1 ',\n",
       " ' AT OAK A   1   4   0   1   0   0   0   0   0   0   1   0   0   0   0   0   0   0   0  .351  .411  .560   3  2b\\n',\n",
       " ' 2 ',\n",
       " ' AT OAK A   1   4   1   1   0   0   1   2   0   0   0   0   0   0   0   0   0   0   0  .350  .410  .564   3  2b\\n',\n",
       " '   ',\n",
       " ' AT OAK A   1   4   1   2   1   0   0   0   0   0   0   0   0   0   0   0   0   0   0  .351  .411  .565   3  2b\\n',\n",
       " '   ',\n",
       " ' AT ANA A   1   4   0   0   0   0   0   0   0   0   1   0   0   0   0   0   0   0   0  .349  .408  .561   3  2b\\n',\n",
       " '   ',\n",
       " ' AT ANA A   1   2   0   1   0   0   0   0   0   0   0   0   0   0   0   0   0   0   0  .349  .408  .561   3  2b\\n',\n",
       " '   ',\n",
       " ' AT ANA A   1   2   1   0   0   0   0   0   2   0   0   0   0   0   0   0   0   0   0  .348  .409  .559   3  2b\\n   Date    #         Opponent  GS  AB   R   H  2B  3B  HR RBI  BB IBB  SO HBP  SH  SF  XI ROE GDP  SB  CS   AVG   OBP   SLG  BP  Pos\\n',\n",
       " '   ',\n",
       " ' VS SEA A   1   4   1   1   0   0   0   1   0   0   1   0   0   0   0   0   0   0   0  .347  .408  .556   3  dh\\n',\n",
       " '   ',\n",
       " ' VS SEA A   1   4   2   2   0   0   0   0   1   0   1   0   0   0   0   0   0   0   0  .348  .409  .556   3  2b\\n',\n",
       " '   ',\n",
       " ' VS CHI A   1   4   1   1   0   0   1   2   0   0   0   0   0   0   0   0   0   0   0  .348  .408  .559   3  2b\\n',\n",
       " '   ',\n",
       " ' VS CHI A   1   3   0   1   0   0   0   1   1   0   1   0   0   0   0   0   0   0   0  .348  .409  .558   3  2b\\n',\n",
       " '   ',\n",
       " ' VS CHI A   1   2   0   0   0   0   0   0   2   0   2   0   0   0   0   0   0   0   0  .346  .410  .556   3  2b\\n',\n",
       " '   ',\n",
       " ' VS ANA A   1   3   1   1   0   0   0   0   0   0   1   0   0   0   0   0   0   1   0  .346  .409  .555   3  2b\\n',\n",
       " '   ',\n",
       " ' VS ANA A   1   3   1   2   0   0   0   0   1   0   1   1   0   0   0   0   0   0   0  .348  .412  .555   3  2b\\n',\n",
       " '   ',\n",
       " ' AT TEX A   1   3   1   1   0   0   0   1   1   0   0   1   0   0   0   0   0   0   0  .348  .414  .554   2  2b\\n',\n",
       " '   ',\n",
       " ' AT TEX A   1   4   2   1   0   0   0   0   0   0   0   0   0   0   0   0   0   0   0  .347  .413  .552   3  2b\\n',\n",
       " '   ',\n",
       " ' AT BOS A   1   4   2   3   1   0   0   0   0   0   0   0   0   0   0   0   0   0   0  .350  .415  .555   3  2b\\n',\n",
       " '   ',\n",
       " ' AT BOS A   1   4   0   0   0   0   0   0   0   0   0   0   0   0   0   0   0   0   0  .348  .412  .551   3  2b\\n',\n",
       " '   ',\n",
       " ' AT BOS A   1   4   1   1   0   0   0   0   0   0   1   0   0   0   0   0   0   0   0  .347  .411  .549   3  2b\\n',\n",
       " '   ',\n",
       " ' AT BOS A   1   2   0   0   0   0   0   0   0   0   0   0   0   0   0   0   0   0   0  .346  .410  .547   1  2b\\n']"
      ]
     },
     "execution_count": 4,
     "metadata": {},
     "output_type": "execute_result"
    }
   ],
   "source": [
    "altuve_2017"
   ]
  },
  {
   "cell_type": "code",
   "execution_count": 5,
   "metadata": {},
   "outputs": [
    {
     "data": {
      "text/plain": [
       "307"
      ]
     },
     "execution_count": 5,
     "metadata": {},
     "output_type": "execute_result"
    }
   ],
   "source": [
    "len(altuve_2017)"
   ]
  },
  {
   "cell_type": "code",
   "execution_count": 6,
   "metadata": {},
   "outputs": [
    {
     "data": {
      "text/plain": [
       "'   Date    #         Opponent  GS  AB   R   H  2B  3B  HR RBI  BB IBB  SO HBP  SH  SF  XI ROE GDP  SB  CS   AVG   OBP   SLG  BP  Pos\\n'"
      ]
     },
     "execution_count": 6,
     "metadata": {},
     "output_type": "execute_result"
    }
   ],
   "source": [
    "altuve_2017[0]"
   ]
  },
  {
   "cell_type": "code",
   "execution_count": 7,
   "metadata": {},
   "outputs": [
    {
     "data": {
      "text/plain": [
       "'AVG'"
      ]
     },
     "execution_count": 7,
     "metadata": {},
     "output_type": "execute_result"
    }
   ],
   "source": [
    "altuve_2017[0][108:111]"
   ]
  },
  {
   "cell_type": "markdown",
   "metadata": {},
   "source": [
    "the header row has the 'AVG' header in index [108:111]\n",
    "\n",
    "the index of the 'AVG' column in the header row turned out to not be useful after all"
   ]
  },
  {
   "cell_type": "markdown",
   "metadata": {},
   "source": [
    "verify row index 0 is header, row index 1 is empty, and row index 2 is first line of data"
   ]
  },
  {
   "cell_type": "code",
   "execution_count": 8,
   "metadata": {},
   "outputs": [
    {
     "data": {
      "text/plain": [
       "['   Date    #         Opponent  GS  AB   R   H  2B  3B  HR RBI  BB IBB  SO HBP  SH  SF  XI ROE GDP  SB  CS   AVG   OBP   SLG  BP  Pos\\n',\n",
       " '   ',\n",
       " ' VS SEA A   1   4   0   1   0   0   0   0   0   0   2   0   0   0   0   0   0   0   0  .250  .250  .250   3  2b\\n']"
      ]
     },
     "execution_count": 8,
     "metadata": {},
     "output_type": "execute_result"
    }
   ],
   "source": [
    "altuve_2017[0:3]"
   ]
  },
  {
   "cell_type": "markdown",
   "metadata": {},
   "source": [
    "verify index of batting average on a few lines of the list"
   ]
  },
  {
   "cell_type": "code",
   "execution_count": 9,
   "metadata": {},
   "outputs": [
    {
     "data": {
      "text/plain": [
       "'.250'"
      ]
     },
     "execution_count": 9,
     "metadata": {},
     "output_type": "execute_result"
    }
   ],
   "source": [
    "altuve_2017[2][93:97]"
   ]
  },
  {
   "cell_type": "code",
   "execution_count": 10,
   "metadata": {},
   "outputs": [
    {
     "data": {
      "text/plain": [
       "'.286'"
      ]
     },
     "execution_count": 10,
     "metadata": {},
     "output_type": "execute_result"
    }
   ],
   "source": [
    "altuve_2017[4][93:97]"
   ]
  },
  {
   "cell_type": "markdown",
   "metadata": {},
   "source": [
    "the rows for each game have the batting average data in index [93:97]"
   ]
  },
  {
   "cell_type": "markdown",
   "metadata": {},
   "source": [
    "the data in 'altuve_2017' is lines of text if index is even, and empty spaces if index is odd, so next block of code will get rid of the empty lines"
   ]
  },
  {
   "cell_type": "code",
   "execution_count": 11,
   "metadata": {},
   "outputs": [],
   "source": [
    "altuve_2017_game_data_only = []\n",
    "for idx, row in enumerate(altuve_2017):\n",
    "    if idx % 2 == 0:\n",
    "        altuve_2017_game_data_only.append(row)"
   ]
  },
  {
   "cell_type": "markdown",
   "metadata": {},
   "source": [
    "next remove the header row"
   ]
  },
  {
   "cell_type": "code",
   "execution_count": 12,
   "metadata": {},
   "outputs": [],
   "source": [
    "altuve_2017_game_data_only = altuve_2017_game_data_only[1:]"
   ]
  },
  {
   "cell_type": "code",
   "execution_count": 13,
   "metadata": {
    "scrolled": true
   },
   "outputs": [
    {
     "data": {
      "text/plain": [
       "153"
      ]
     },
     "execution_count": 13,
     "metadata": {},
     "output_type": "execute_result"
    }
   ],
   "source": [
    "len(altuve_2017_game_data_only)"
   ]
  },
  {
   "cell_type": "markdown",
   "metadata": {},
   "source": [
    "remove the mid-table column header repeats.\n",
    "\n",
    "this next line was finding out what part of the line had the extra column header information that repeats throughout the table on the website, and that was incorporated into building the altuve_2017_game_data_cleaned list"
   ]
  },
  {
   "cell_type": "code",
   "execution_count": 14,
   "metadata": {},
   "outputs": [
    {
     "data": {
      "text/plain": [
       "'   Date'"
      ]
     },
     "execution_count": 14,
     "metadata": {},
     "output_type": "execute_result"
    }
   ],
   "source": [
    "altuve_2017_game_data_only[19][112:119]"
   ]
  },
  {
   "cell_type": "code",
   "execution_count": 15,
   "metadata": {},
   "outputs": [],
   "source": [
    "altuve_2017_game_data_cleaned = []\n",
    "for row in altuve_2017_game_data_only:\n",
    "    if row[112:119] == '   Date':\n",
    "        altuve_2017_game_data_cleaned.append(row[0:112]) #cuts out the parts of the rows that have repeat column headers \n",
    "    else:\n",
    "        altuve_2017_game_data_cleaned.append(row)"
   ]
  },
  {
   "cell_type": "code",
   "execution_count": 16,
   "metadata": {},
   "outputs": [
    {
     "data": {
      "text/plain": [
       "153"
      ]
     },
     "execution_count": 16,
     "metadata": {},
     "output_type": "execute_result"
    }
   ],
   "source": [
    "len(altuve_2017_game_data_cleaned)"
   ]
  },
  {
   "cell_type": "markdown",
   "metadata": {},
   "source": [
    "identify the index of the batting average in each line"
   ]
  },
  {
   "cell_type": "code",
   "execution_count": 17,
   "metadata": {},
   "outputs": [
    {
     "data": {
      "text/plain": [
       "'.250'"
      ]
     },
     "execution_count": 17,
     "metadata": {},
     "output_type": "execute_result"
    }
   ],
   "source": [
    "altuve_2017_game_data_only[0][87:91]"
   ]
  },
  {
   "cell_type": "markdown",
   "metadata": {},
   "source": [
    "slice out just the batting average data, and cast as float"
   ]
  },
  {
   "cell_type": "code",
   "execution_count": 18,
   "metadata": {},
   "outputs": [
    {
     "data": {
      "text/plain": [
       "[0.25,\n",
       " 0.286,\n",
       " 0.154,\n",
       " 0.176,\n",
       " 0.143,\n",
       " 0.16,\n",
       " 0.2,\n",
       " 0.188,\n",
       " 0.216,\n",
       " 0.275,\n",
       " 0.326,\n",
       " 0.319,\n",
       " 0.32,\n",
       " 0.333,\n",
       " 0.328,\n",
       " 0.311,\n",
       " 0.303,\n",
       " 0.304,\n",
       " 0.324,\n",
       " 0.312,\n",
       " 0.321,\n",
       " 0.305,\n",
       " 0.318,\n",
       " 0.326,\n",
       " 0.326,\n",
       " 0.326,\n",
       " 0.31,\n",
       " 0.302,\n",
       " 0.297,\n",
       " 0.297,\n",
       " 0.304,\n",
       " 0.303,\n",
       " 0.295,\n",
       " 0.294,\n",
       " 0.298,\n",
       " 0.289,\n",
       " 0.286,\n",
       " 0.292,\n",
       " 0.295,\n",
       " 0.311,\n",
       " 0.31,\n",
       " 0.308,\n",
       " 0.307,\n",
       " 0.305,\n",
       " 0.298,\n",
       " 0.297,\n",
       " 0.298,\n",
       " 0.291,\n",
       " 0.301,\n",
       " 0.3,\n",
       " 0.308,\n",
       " 0.32,\n",
       " 0.319,\n",
       " 0.322,\n",
       " 0.329,\n",
       " 0.323,\n",
       " 0.326,\n",
       " 0.326,\n",
       " 0.326,\n",
       " 0.325,\n",
       " 0.319,\n",
       " 0.324,\n",
       " 0.322,\n",
       " 0.317,\n",
       " 0.312,\n",
       " 0.32,\n",
       " 0.324,\n",
       " 0.327,\n",
       " 0.331,\n",
       " 0.326,\n",
       " 0.325,\n",
       " 0.322,\n",
       " 0.323,\n",
       " 0.32,\n",
       " 0.319,\n",
       " 0.324,\n",
       " 0.328,\n",
       " 0.327,\n",
       " 0.33,\n",
       " 0.327,\n",
       " 0.326,\n",
       " 0.33,\n",
       " 0.334,\n",
       " 0.338,\n",
       " 0.342,\n",
       " 0.347,\n",
       " 0.349,\n",
       " 0.348,\n",
       " 0.35,\n",
       " 0.347,\n",
       " 0.351,\n",
       " 0.353,\n",
       " 0.352,\n",
       " 0.352,\n",
       " 0.358,\n",
       " 0.365,\n",
       " 0.364,\n",
       " 0.365,\n",
       " 0.369,\n",
       " 0.365,\n",
       " 0.367,\n",
       " 0.368,\n",
       " 0.365,\n",
       " 0.361,\n",
       " 0.365,\n",
       " 0.361,\n",
       " 0.364,\n",
       " 0.365,\n",
       " 0.364,\n",
       " 0.365,\n",
       " 0.363,\n",
       " 0.361,\n",
       " 0.362,\n",
       " 0.361,\n",
       " 0.363,\n",
       " 0.364,\n",
       " 0.361,\n",
       " 0.362,\n",
       " 0.364,\n",
       " 0.362,\n",
       " 0.358,\n",
       " 0.358,\n",
       " 0.357,\n",
       " 0.355,\n",
       " 0.356,\n",
       " 0.355,\n",
       " 0.354,\n",
       " 0.355,\n",
       " 0.358,\n",
       " 0.358,\n",
       " 0.357,\n",
       " 0.354,\n",
       " 0.351,\n",
       " 0.352,\n",
       " 0.351,\n",
       " 0.35,\n",
       " 0.351,\n",
       " 0.349,\n",
       " 0.349,\n",
       " 0.348,\n",
       " 0.347,\n",
       " 0.348,\n",
       " 0.348,\n",
       " 0.348,\n",
       " 0.346,\n",
       " 0.346,\n",
       " 0.348,\n",
       " 0.348,\n",
       " 0.347,\n",
       " 0.35,\n",
       " 0.348,\n",
       " 0.347,\n",
       " 0.346]"
      ]
     },
     "execution_count": 18,
     "metadata": {},
     "output_type": "execute_result"
    }
   ],
   "source": [
    "altuve_2017_averages = [float(row[87:91]) for row in altuve_2017_game_data_cleaned]\n",
    "altuve_2017_averages"
   ]
  },
  {
   "cell_type": "code",
   "execution_count": 19,
   "metadata": {},
   "outputs": [
    {
     "data": {
      "text/plain": [
       "153"
      ]
     },
     "execution_count": 19,
     "metadata": {},
     "output_type": "execute_result"
    }
   ],
   "source": [
    "len(altuve_2017_averages)"
   ]
  },
  {
   "cell_type": "markdown",
   "metadata": {},
   "source": [
    "## 2017 Dates"
   ]
  },
  {
   "cell_type": "code",
   "execution_count": 20,
   "metadata": {},
   "outputs": [],
   "source": [
    "url = \"https://www.retrosheet.org/boxesetc/2017/Ialtuj0010072017.htm\"\n",
    "r = requests.get(url)\n",
    "\n",
    "soup = BeautifulSoup(r.text, 'html.parser')\n",
    "\n",
    "link_text = []\n",
    "for a in soup.find_all('a'):\n",
    "    link_text.append(a.string)\n",
    "    \n",
    "link_text_dates = link_text[48:]\n",
    "\n",
    "altuve_2017_dates = []\n",
    "for i in link_text_dates:\n",
    "    if '2017' in i:\n",
    "        altuve_2017_dates.append(i)"
   ]
  },
  {
   "cell_type": "code",
   "execution_count": 21,
   "metadata": {},
   "outputs": [
    {
     "data": {
      "text/plain": [
       "[' 4- 3-2017',\n",
       " ' 4- 4-2017',\n",
       " ' 4- 5-2017',\n",
       " ' 4- 6-2017',\n",
       " ' 4- 7-2017',\n",
       " ' 4- 8-2017',\n",
       " ' 4- 9-2017',\n",
       " ' 4-10-2017',\n",
       " ' 4-11-2017',\n",
       " ' 4-12-2017',\n",
       " ' 4-14-2017',\n",
       " ' 4-15-2017',\n",
       " ' 4-17-2017',\n",
       " ' 4-18-2017',\n",
       " ' 4-19-2017',\n",
       " ' 4-20-2017',\n",
       " ' 4-21-2017',\n",
       " ' 4-22-2017',\n",
       " ' 4-23-2017',\n",
       " ' 4-25-2017',\n",
       " ' 4-27-2017',\n",
       " ' 4-28-2017',\n",
       " ' 4-29-2017',\n",
       " ' 4-30-2017',\n",
       " ' 5- 1-2017',\n",
       " ' 5- 2-2017',\n",
       " ' 5- 3-2017',\n",
       " ' 5- 4-2017',\n",
       " ' 5- 5-2017',\n",
       " ' 5- 6-2017',\n",
       " ' 5- 7-2017',\n",
       " ' 5- 9-2017',\n",
       " ' 5-10-2017',\n",
       " ' 5-11-2017',\n",
       " ' 5-12-2017',\n",
       " ' 5-14-2017',\n",
       " ' 5-14-2017',\n",
       " ' 5-15-2017',\n",
       " ' 5-16-2017',\n",
       " ' 5-17-2017',\n",
       " ' 5-19-2017',\n",
       " ' 5-20-2017',\n",
       " ' 5-21-2017',\n",
       " ' 5-22-2017',\n",
       " ' 5-23-2017',\n",
       " ' 5-24-2017',\n",
       " ' 5-25-2017',\n",
       " ' 5-26-2017',\n",
       " ' 5-27-2017',\n",
       " ' 5-28-2017',\n",
       " ' 5-29-2017',\n",
       " ' 5-30-2017',\n",
       " ' 5-31-2017',\n",
       " ' 6- 2-2017',\n",
       " ' 6- 3-2017',\n",
       " ' 6- 4-2017',\n",
       " ' 6- 5-2017',\n",
       " ' 6- 6-2017',\n",
       " ' 6- 7-2017',\n",
       " ' 6- 8-2017',\n",
       " ' 6- 9-2017',\n",
       " ' 6-10-2017',\n",
       " ' 6-11-2017',\n",
       " ' 6-12-2017',\n",
       " ' 6-13-2017',\n",
       " ' 6-14-2017',\n",
       " ' 6-16-2017',\n",
       " ' 6-17-2017',\n",
       " ' 6-18-2017',\n",
       " ' 6-19-2017',\n",
       " ' 6-20-2017',\n",
       " ' 6-21-2017',\n",
       " ' 6-23-2017',\n",
       " ' 6-24-2017',\n",
       " ' 6-25-2017',\n",
       " ' 6-27-2017',\n",
       " ' 6-28-2017',\n",
       " ' 6-29-2017',\n",
       " ' 6-30-2017',\n",
       " ' 7- 1-2017',\n",
       " ' 7- 2-2017',\n",
       " ' 7- 4-2017',\n",
       " ' 7- 5-2017',\n",
       " ' 7- 6-2017',\n",
       " ' 7- 7-2017',\n",
       " ' 7- 9-2017',\n",
       " ' 7-14-2017',\n",
       " ' 7-15-2017',\n",
       " ' 7-16-2017',\n",
       " ' 7-17-2017',\n",
       " ' 7-18-2017',\n",
       " ' 7-19-2017',\n",
       " ' 7-21-2017',\n",
       " ' 7-22-2017',\n",
       " ' 7-23-2017',\n",
       " ' 7-24-2017',\n",
       " ' 7-25-2017',\n",
       " ' 7-26-2017',\n",
       " ' 7-28-2017',\n",
       " ' 7-29-2017',\n",
       " ' 7-30-2017',\n",
       " ' 7-31-2017',\n",
       " ' 8- 1-2017',\n",
       " ' 8- 2-2017',\n",
       " ' 8- 3-2017',\n",
       " ' 8- 5-2017',\n",
       " ' 8- 6-2017',\n",
       " ' 8- 8-2017',\n",
       " ' 8- 9-2017',\n",
       " ' 8-10-2017',\n",
       " ' 8-11-2017',\n",
       " ' 8-12-2017',\n",
       " ' 8-13-2017',\n",
       " ' 8-14-2017',\n",
       " ' 8-15-2017',\n",
       " ' 8-16-2017',\n",
       " ' 8-17-2017',\n",
       " ' 8-18-2017',\n",
       " ' 8-19-2017',\n",
       " ' 8-20-2017',\n",
       " ' 8-22-2017',\n",
       " ' 8-23-2017',\n",
       " ' 8-24-2017',\n",
       " ' 8-26-2017',\n",
       " ' 8-27-2017',\n",
       " ' 8-29-2017',\n",
       " ' 8-30-2017',\n",
       " ' 8-31-2017',\n",
       " ' 9- 2-2017',\n",
       " ' 9- 2-2017',\n",
       " ' 9- 3-2017',\n",
       " ' 9- 4-2017',\n",
       " ' 9- 5-2017',\n",
       " ' 9- 8-2017',\n",
       " ' 9- 9-2017',\n",
       " ' 9- 9-2017',\n",
       " ' 9-10-2017',\n",
       " ' 9-12-2017',\n",
       " ' 9-13-2017',\n",
       " ' 9-14-2017',\n",
       " ' 9-15-2017',\n",
       " ' 9-16-2017',\n",
       " ' 9-19-2017',\n",
       " ' 9-20-2017',\n",
       " ' 9-21-2017',\n",
       " ' 9-22-2017',\n",
       " ' 9-24-2017',\n",
       " ' 9-25-2017',\n",
       " ' 9-27-2017',\n",
       " ' 9-28-2017',\n",
       " ' 9-29-2017',\n",
       " ' 9-30-2017',\n",
       " '10- 1-2017']"
      ]
     },
     "execution_count": 21,
     "metadata": {},
     "output_type": "execute_result"
    }
   ],
   "source": [
    "altuve_2017_dates"
   ]
  },
  {
   "cell_type": "code",
   "execution_count": 22,
   "metadata": {},
   "outputs": [
    {
     "data": {
      "text/plain": [
       "153"
      ]
     },
     "execution_count": 22,
     "metadata": {},
     "output_type": "execute_result"
    }
   ],
   "source": [
    "len(altuve_2017_dates)"
   ]
  },
  {
   "cell_type": "markdown",
   "metadata": {},
   "source": [
    "and now to slice out the empty spaces out of each date item, and convert to a datetime object"
   ]
  },
  {
   "cell_type": "code",
   "execution_count": 23,
   "metadata": {},
   "outputs": [],
   "source": [
    "altuve_2017_dates_cleaned = []\n",
    "for date in altuve_2017_dates:\n",
    "    altuve_2017_dates_cleaned.append(date.replace(' ', '0'))"
   ]
  },
  {
   "cell_type": "code",
   "execution_count": 24,
   "metadata": {},
   "outputs": [],
   "source": [
    "altuve_2017_dates_final = []\n",
    "for date in altuve_2017_dates_cleaned:\n",
    "    altuve_2017_dates_final.append(datetime.strftime(datetime.strptime(date, '%m-%d-%Y'), '%m-%d'))"
   ]
  },
  {
   "cell_type": "code",
   "execution_count": 25,
   "metadata": {},
   "outputs": [
    {
     "data": {
      "text/plain": [
       "['04-03',\n",
       " '04-04',\n",
       " '04-05',\n",
       " '04-06',\n",
       " '04-07',\n",
       " '04-08',\n",
       " '04-09',\n",
       " '04-10',\n",
       " '04-11',\n",
       " '04-12',\n",
       " '04-14',\n",
       " '04-15',\n",
       " '04-17',\n",
       " '04-18',\n",
       " '04-19',\n",
       " '04-20',\n",
       " '04-21',\n",
       " '04-22',\n",
       " '04-23',\n",
       " '04-25',\n",
       " '04-27',\n",
       " '04-28',\n",
       " '04-29',\n",
       " '04-30',\n",
       " '05-01',\n",
       " '05-02',\n",
       " '05-03',\n",
       " '05-04',\n",
       " '05-05',\n",
       " '05-06',\n",
       " '05-07',\n",
       " '05-09',\n",
       " '05-10',\n",
       " '05-11',\n",
       " '05-12',\n",
       " '05-14',\n",
       " '05-14',\n",
       " '05-15',\n",
       " '05-16',\n",
       " '05-17',\n",
       " '05-19',\n",
       " '05-20',\n",
       " '05-21',\n",
       " '05-22',\n",
       " '05-23',\n",
       " '05-24',\n",
       " '05-25',\n",
       " '05-26',\n",
       " '05-27',\n",
       " '05-28',\n",
       " '05-29',\n",
       " '05-30',\n",
       " '05-31',\n",
       " '06-02',\n",
       " '06-03',\n",
       " '06-04',\n",
       " '06-05',\n",
       " '06-06',\n",
       " '06-07',\n",
       " '06-08',\n",
       " '06-09',\n",
       " '06-10',\n",
       " '06-11',\n",
       " '06-12',\n",
       " '06-13',\n",
       " '06-14',\n",
       " '06-16',\n",
       " '06-17',\n",
       " '06-18',\n",
       " '06-19',\n",
       " '06-20',\n",
       " '06-21',\n",
       " '06-23',\n",
       " '06-24',\n",
       " '06-25',\n",
       " '06-27',\n",
       " '06-28',\n",
       " '06-29',\n",
       " '06-30',\n",
       " '07-01',\n",
       " '07-02',\n",
       " '07-04',\n",
       " '07-05',\n",
       " '07-06',\n",
       " '07-07',\n",
       " '07-09',\n",
       " '07-14',\n",
       " '07-15',\n",
       " '07-16',\n",
       " '07-17',\n",
       " '07-18',\n",
       " '07-19',\n",
       " '07-21',\n",
       " '07-22',\n",
       " '07-23',\n",
       " '07-24',\n",
       " '07-25',\n",
       " '07-26',\n",
       " '07-28',\n",
       " '07-29',\n",
       " '07-30',\n",
       " '07-31',\n",
       " '08-01',\n",
       " '08-02',\n",
       " '08-03',\n",
       " '08-05',\n",
       " '08-06',\n",
       " '08-08',\n",
       " '08-09',\n",
       " '08-10',\n",
       " '08-11',\n",
       " '08-12',\n",
       " '08-13',\n",
       " '08-14',\n",
       " '08-15',\n",
       " '08-16',\n",
       " '08-17',\n",
       " '08-18',\n",
       " '08-19',\n",
       " '08-20',\n",
       " '08-22',\n",
       " '08-23',\n",
       " '08-24',\n",
       " '08-26',\n",
       " '08-27',\n",
       " '08-29',\n",
       " '08-30',\n",
       " '08-31',\n",
       " '09-02',\n",
       " '09-02',\n",
       " '09-03',\n",
       " '09-04',\n",
       " '09-05',\n",
       " '09-08',\n",
       " '09-09',\n",
       " '09-09',\n",
       " '09-10',\n",
       " '09-12',\n",
       " '09-13',\n",
       " '09-14',\n",
       " '09-15',\n",
       " '09-16',\n",
       " '09-19',\n",
       " '09-20',\n",
       " '09-21',\n",
       " '09-22',\n",
       " '09-24',\n",
       " '09-25',\n",
       " '09-27',\n",
       " '09-28',\n",
       " '09-29',\n",
       " '09-30',\n",
       " '10-01']"
      ]
     },
     "execution_count": 25,
     "metadata": {},
     "output_type": "execute_result"
    }
   ],
   "source": [
    "altuve_2017_dates_final"
   ]
  },
  {
   "cell_type": "markdown",
   "metadata": {},
   "source": [
    "## lists i am interested in after cleaning the data are:\n",
    "altuve_2017_dates_final\n",
    "\n",
    "and\n",
    "\n",
    "altuve_2017_averages"
   ]
  },
  {
   "cell_type": "markdown",
   "metadata": {},
   "source": [
    "now to combine the dates and the batting averages into a pandas dataframe"
   ]
  },
  {
   "cell_type": "code",
   "execution_count": 26,
   "metadata": {},
   "outputs": [
    {
     "data": {
      "text/html": [
       "<div>\n",
       "<style scoped>\n",
       "    .dataframe tbody tr th:only-of-type {\n",
       "        vertical-align: middle;\n",
       "    }\n",
       "\n",
       "    .dataframe tbody tr th {\n",
       "        vertical-align: top;\n",
       "    }\n",
       "\n",
       "    .dataframe thead th {\n",
       "        text-align: right;\n",
       "    }\n",
       "</style>\n",
       "<table border=\"1\" class=\"dataframe\">\n",
       "  <thead>\n",
       "    <tr style=\"text-align: right;\">\n",
       "      <th></th>\n",
       "      <th>2017</th>\n",
       "      <th>Batting Average</th>\n",
       "    </tr>\n",
       "  </thead>\n",
       "  <tbody>\n",
       "    <tr>\n",
       "      <th>0</th>\n",
       "      <td>04-03</td>\n",
       "      <td>0.250</td>\n",
       "    </tr>\n",
       "    <tr>\n",
       "      <th>1</th>\n",
       "      <td>04-04</td>\n",
       "      <td>0.286</td>\n",
       "    </tr>\n",
       "    <tr>\n",
       "      <th>2</th>\n",
       "      <td>04-05</td>\n",
       "      <td>0.154</td>\n",
       "    </tr>\n",
       "    <tr>\n",
       "      <th>3</th>\n",
       "      <td>04-06</td>\n",
       "      <td>0.176</td>\n",
       "    </tr>\n",
       "    <tr>\n",
       "      <th>4</th>\n",
       "      <td>04-07</td>\n",
       "      <td>0.143</td>\n",
       "    </tr>\n",
       "    <tr>\n",
       "      <th>...</th>\n",
       "      <td>...</td>\n",
       "      <td>...</td>\n",
       "    </tr>\n",
       "    <tr>\n",
       "      <th>148</th>\n",
       "      <td>09-27</td>\n",
       "      <td>0.347</td>\n",
       "    </tr>\n",
       "    <tr>\n",
       "      <th>149</th>\n",
       "      <td>09-28</td>\n",
       "      <td>0.350</td>\n",
       "    </tr>\n",
       "    <tr>\n",
       "      <th>150</th>\n",
       "      <td>09-29</td>\n",
       "      <td>0.348</td>\n",
       "    </tr>\n",
       "    <tr>\n",
       "      <th>151</th>\n",
       "      <td>09-30</td>\n",
       "      <td>0.347</td>\n",
       "    </tr>\n",
       "    <tr>\n",
       "      <th>152</th>\n",
       "      <td>10-01</td>\n",
       "      <td>0.346</td>\n",
       "    </tr>\n",
       "  </tbody>\n",
       "</table>\n",
       "<p>153 rows × 2 columns</p>\n",
       "</div>"
      ],
      "text/plain": [
       "      2017  Batting Average\n",
       "0    04-03            0.250\n",
       "1    04-04            0.286\n",
       "2    04-05            0.154\n",
       "3    04-06            0.176\n",
       "4    04-07            0.143\n",
       "..     ...              ...\n",
       "148  09-27            0.347\n",
       "149  09-28            0.350\n",
       "150  09-29            0.348\n",
       "151  09-30            0.347\n",
       "152  10-01            0.346\n",
       "\n",
       "[153 rows x 2 columns]"
      ]
     },
     "execution_count": 26,
     "metadata": {},
     "output_type": "execute_result"
    }
   ],
   "source": [
    "altuve_2017_df = pd.DataFrame(altuve_2017_averages, altuve_2017_dates_final).reset_index()\n",
    "altuve_2017_df.columns = ['2017', 'Batting Average']\n",
    "altuve_2017_df"
   ]
  },
  {
   "cell_type": "code",
   "execution_count": 27,
   "metadata": {},
   "outputs": [
    {
     "data": {
      "text/plain": [
       "<matplotlib.axes._subplots.AxesSubplot at 0x7fc8346529d0>"
      ]
     },
     "execution_count": 27,
     "metadata": {},
     "output_type": "execute_result"
    },
    {
     "data": {
      "image/png": "[encoded data removed]",
      "text/plain": [
       "<Figure size 432x288 with 1 Axes>"
      ]
     },
     "metadata": {
      "needs_background": "light"
     },
     "output_type": "display_data"
    }
   ],
   "source": [
    "altuve_2017_df.plot('2017', 'Batting Average')"
   ]
  },
  {
   "cell_type": "markdown",
   "metadata": {},
   "source": [
    "# 2016 Scrape: Jose Altuve"
   ]
  },
  {
   "cell_type": "code",
   "execution_count": 28,
   "metadata": {},
   "outputs": [],
   "source": [
    "xpath = \"//pre[5]/text()\"\n",
    "url = 'https://www.retrosheet.org/boxesetc/2016/Ialtuj0010062016.htm'\n",
    "r = requests.get(url)\n",
    "page = html.parse(StringIO(r.text))\n",
    "altuve_2016 = page.xpath(xpath)"
   ]
  },
  {
   "cell_type": "markdown",
   "metadata": {},
   "source": [
    "verify index 0, 1, and 2 are header, empty, and first line of text data"
   ]
  },
  {
   "cell_type": "code",
   "execution_count": 29,
   "metadata": {},
   "outputs": [
    {
     "data": {
      "text/plain": [
       "'   Date    #         Opponent  GS  AB   R   H  2B  3B  HR RBI  BB IBB  SO HBP  SH  SF  XI ROE GDP  SB  CS   AVG   OBP   SLG  BP  Pos\\n'"
      ]
     },
     "execution_count": 29,
     "metadata": {},
     "output_type": "execute_result"
    }
   ],
   "source": [
    "altuve_2016[0]"
   ]
  },
  {
   "cell_type": "code",
   "execution_count": 30,
   "metadata": {},
   "outputs": [
    {
     "data": {
      "text/plain": [
       "'   '"
      ]
     },
     "execution_count": 30,
     "metadata": {},
     "output_type": "execute_result"
    }
   ],
   "source": [
    "altuve_2016[1]"
   ]
  },
  {
   "cell_type": "code",
   "execution_count": 31,
   "metadata": {},
   "outputs": [
    {
     "data": {
      "text/plain": [
       "' AT NY  A   1   4   2   1   1   0   0   0   1   0   0   0   0   0   0   0   0   1   0  .250  .400  .500   1  2b\\n'"
      ]
     },
     "execution_count": 31,
     "metadata": {},
     "output_type": "execute_result"
    }
   ],
   "source": [
    "altuve_2016[2]"
   ]
  },
  {
   "cell_type": "markdown",
   "metadata": {},
   "source": [
    "get rid of empty lines, and remove header row"
   ]
  },
  {
   "cell_type": "code",
   "execution_count": 32,
   "metadata": {},
   "outputs": [],
   "source": [
    "altuve_2016_game_data_only = []\n",
    "for idx, row in enumerate(altuve_2016):\n",
    "    if idx % 2 == 0:\n",
    "        altuve_2016_game_data_only.append(row)"
   ]
  },
  {
   "cell_type": "code",
   "execution_count": 33,
   "metadata": {},
   "outputs": [],
   "source": [
    "altuve_2016_game_data_only = altuve_2016_game_data_only[1:]"
   ]
  },
  {
   "cell_type": "code",
   "execution_count": 34,
   "metadata": {},
   "outputs": [
    {
     "data": {
      "text/plain": [
       "161"
      ]
     },
     "execution_count": 34,
     "metadata": {},
     "output_type": "execute_result"
    }
   ],
   "source": [
    "len(altuve_2016_game_data_only)"
   ]
  },
  {
   "cell_type": "markdown",
   "metadata": {},
   "source": [
    "remove the mid-table column header repeats.\n",
    "\n",
    "this next line was finding out what part of the line had the extra column header information that repeats throughout the table on the website, and that was incorporated into building the altuve_2017_game_data_cleaned list"
   ]
  },
  {
   "cell_type": "code",
   "execution_count": 35,
   "metadata": {},
   "outputs": [
    {
     "data": {
      "text/plain": [
       "'   Date'"
      ]
     },
     "execution_count": 35,
     "metadata": {},
     "output_type": "execute_result"
    }
   ],
   "source": [
    "altuve_2016_game_data_only[19][112:119]"
   ]
  },
  {
   "cell_type": "code",
   "execution_count": 36,
   "metadata": {},
   "outputs": [],
   "source": [
    "altuve_2016_game_data_cleaned = []\n",
    "for row in altuve_2016_game_data_only:\n",
    "    if row[112:119] == '   Date':\n",
    "        altuve_2016_game_data_cleaned.append(row[0:112])\n",
    "    else:\n",
    "        altuve_2016_game_data_cleaned.append(row)"
   ]
  },
  {
   "cell_type": "markdown",
   "metadata": {},
   "source": [
    "verify the index of the batting average data in each line"
   ]
  },
  {
   "cell_type": "code",
   "execution_count": 37,
   "metadata": {},
   "outputs": [
    {
     "data": {
      "text/plain": [
       "'.286'"
      ]
     },
     "execution_count": 37,
     "metadata": {},
     "output_type": "execute_result"
    }
   ],
   "source": [
    "altuve_2016_game_data_only[1][87:91]"
   ]
  },
  {
   "cell_type": "markdown",
   "metadata": {},
   "source": [
    "construct list of float batting averages"
   ]
  },
  {
   "cell_type": "code",
   "execution_count": 38,
   "metadata": {},
   "outputs": [],
   "source": [
    "altuve_2016_averages = [float(row[87:91]) for row in altuve_2016_game_data_cleaned]"
   ]
  },
  {
   "cell_type": "code",
   "execution_count": 39,
   "metadata": {},
   "outputs": [
    {
     "data": {
      "text/plain": [
       "161"
      ]
     },
     "execution_count": 39,
     "metadata": {},
     "output_type": "execute_result"
    }
   ],
   "source": [
    "len(altuve_2016_averages)"
   ]
  },
  {
   "cell_type": "markdown",
   "metadata": {},
   "source": [
    "## 2016 dates"
   ]
  },
  {
   "cell_type": "code",
   "execution_count": 40,
   "metadata": {},
   "outputs": [],
   "source": [
    "url = 'https://www.retrosheet.org/boxesetc/2016/Ialtuj0010062016.htm'\n",
    "r = requests.get(url)\n",
    "\n",
    "soup = BeautifulSoup(r.text, 'html.parser')\n",
    "\n",
    "link_text = []\n",
    "for a in soup.find_all('a'):\n",
    "    link_text.append(a.string)\n",
    "\n",
    "link_text_dates = link_text[48:]\n",
    "\n",
    "altuve_2016_dates = []\n",
    "for i in link_text_dates:\n",
    "    if '2016' in i:\n",
    "        altuve_2016_dates.append(i)"
   ]
  },
  {
   "cell_type": "markdown",
   "metadata": {},
   "source": [
    "instead of doing several for loops with indexing/slicing, this replace method is much more efficient at getting the date text into the format i need"
   ]
  },
  {
   "cell_type": "code",
   "execution_count": 41,
   "metadata": {},
   "outputs": [],
   "source": [
    "altuve_2016_dates_cleaned = []\n",
    "for date in altuve_2016_dates:\n",
    "    altuve_2016_dates_cleaned.append(date.replace(' ', '0'))"
   ]
  },
  {
   "cell_type": "markdown",
   "metadata": {},
   "source": [
    "identify date components in string and convert to datetime object"
   ]
  },
  {
   "cell_type": "code",
   "execution_count": 42,
   "metadata": {},
   "outputs": [],
   "source": [
    "altuve_2016_dates_final = []\n",
    "for date in altuve_2016_dates_cleaned:\n",
    "    altuve_2016_dates_final.append(datetime.strftime(datetime.strptime(date, '%m-%d-%Y'), '%m-%d'))"
   ]
  },
  {
   "cell_type": "markdown",
   "metadata": {},
   "source": [
    "build 2016 dataframe"
   ]
  },
  {
   "cell_type": "code",
   "execution_count": 43,
   "metadata": {},
   "outputs": [
    {
     "data": {
      "text/html": [
       "<div>\n",
       "<style scoped>\n",
       "    .dataframe tbody tr th:only-of-type {\n",
       "        vertical-align: middle;\n",
       "    }\n",
       "\n",
       "    .dataframe tbody tr th {\n",
       "        vertical-align: top;\n",
       "    }\n",
       "\n",
       "    .dataframe thead th {\n",
       "        text-align: right;\n",
       "    }\n",
       "</style>\n",
       "<table border=\"1\" class=\"dataframe\">\n",
       "  <thead>\n",
       "    <tr style=\"text-align: right;\">\n",
       "      <th></th>\n",
       "      <th>2016</th>\n",
       "      <th>Batting Average</th>\n",
       "    </tr>\n",
       "  </thead>\n",
       "  <tbody>\n",
       "    <tr>\n",
       "      <th>0</th>\n",
       "      <td>04-05</td>\n",
       "      <td>0.250</td>\n",
       "    </tr>\n",
       "    <tr>\n",
       "      <th>1</th>\n",
       "      <td>04-06</td>\n",
       "      <td>0.286</td>\n",
       "    </tr>\n",
       "    <tr>\n",
       "      <th>2</th>\n",
       "      <td>04-07</td>\n",
       "      <td>0.182</td>\n",
       "    </tr>\n",
       "    <tr>\n",
       "      <th>3</th>\n",
       "      <td>04-08</td>\n",
       "      <td>0.188</td>\n",
       "    </tr>\n",
       "    <tr>\n",
       "      <th>4</th>\n",
       "      <td>04-09</td>\n",
       "      <td>0.190</td>\n",
       "    </tr>\n",
       "    <tr>\n",
       "      <th>...</th>\n",
       "      <td>...</td>\n",
       "      <td>...</td>\n",
       "    </tr>\n",
       "    <tr>\n",
       "      <th>156</th>\n",
       "      <td>09-27</td>\n",
       "      <td>0.339</td>\n",
       "    </tr>\n",
       "    <tr>\n",
       "      <th>157</th>\n",
       "      <td>09-28</td>\n",
       "      <td>0.337</td>\n",
       "    </tr>\n",
       "    <tr>\n",
       "      <th>158</th>\n",
       "      <td>09-30</td>\n",
       "      <td>0.337</td>\n",
       "    </tr>\n",
       "    <tr>\n",
       "      <th>159</th>\n",
       "      <td>10-01</td>\n",
       "      <td>0.338</td>\n",
       "    </tr>\n",
       "    <tr>\n",
       "      <th>160</th>\n",
       "      <td>10-02</td>\n",
       "      <td>0.338</td>\n",
       "    </tr>\n",
       "  </tbody>\n",
       "</table>\n",
       "<p>161 rows × 2 columns</p>\n",
       "</div>"
      ],
      "text/plain": [
       "      2016  Batting Average\n",
       "0    04-05            0.250\n",
       "1    04-06            0.286\n",
       "2    04-07            0.182\n",
       "3    04-08            0.188\n",
       "4    04-09            0.190\n",
       "..     ...              ...\n",
       "156  09-27            0.339\n",
       "157  09-28            0.337\n",
       "158  09-30            0.337\n",
       "159  10-01            0.338\n",
       "160  10-02            0.338\n",
       "\n",
       "[161 rows x 2 columns]"
      ]
     },
     "execution_count": 43,
     "metadata": {},
     "output_type": "execute_result"
    }
   ],
   "source": [
    "altuve_2016_df = pd.DataFrame(altuve_2016_averages, altuve_2016_dates_final).reset_index()\n",
    "altuve_2016_df.columns = ['2016', 'Batting Average']\n",
    "altuve_2016_df"
   ]
  },
  {
   "cell_type": "code",
   "execution_count": 44,
   "metadata": {},
   "outputs": [
    {
     "data": {
      "text/plain": [
       "<matplotlib.axes._subplots.AxesSubplot at 0x7fc834a60c90>"
      ]
     },
     "execution_count": 44,
     "metadata": {},
     "output_type": "execute_result"
    },
    {
     "data": {
      "image/png": "[encoded data removed]",
      "text/plain": [
       "<Figure size 432x288 with 1 Axes>"
      ]
     },
     "metadata": {
      "needs_background": "light"
     },
     "output_type": "display_data"
    },
    {
     "data": {
      "image/png": "[encoded data removed]",
      "text/plain": [
       "<Figure size 432x288 with 1 Axes>"
      ]
     },
     "metadata": {
      "needs_background": "light"
     },
     "output_type": "display_data"
    }
   ],
   "source": [
    "altuve_2016_df.plot('2016', 'Batting Average')\n",
    "altuve_2017_df.plot('2017', 'Batting Average')"
   ]
  },
  {
   "cell_type": "markdown",
   "metadata": {},
   "source": [
    "# 2015 Scrape: Jose Altuve"
   ]
  },
  {
   "cell_type": "code",
   "execution_count": 45,
   "metadata": {},
   "outputs": [],
   "source": [
    "xpath = \"//pre[5]/text()\"\n",
    "url = 'https://www.retrosheet.org/boxesetc/2015/Ialtuj0010052015.htm'\n",
    "r = requests.get(url)\n",
    "page = html.parse(StringIO(r.text))\n",
    "altuve_2015 = page.xpath(xpath)"
   ]
  },
  {
   "cell_type": "code",
   "execution_count": 46,
   "metadata": {},
   "outputs": [
    {
     "data": {
      "text/plain": [
       "['   Date    #         Opponent  GS  AB   R   H  2B  3B  HR RBI  BB IBB  SO HBP  SH  SF  XI ROE GDP  SB  CS   AVG   OBP   SLG  BP  Pos\\n',\n",
       " '   ',\n",
       " ' VS CLE A   1   4   1   1   0   0   0   0   0   0   1   0   0   0   0   0   0   1   0  .250  .250  .250   1  2b\\n']"
      ]
     },
     "execution_count": 46,
     "metadata": {},
     "output_type": "execute_result"
    }
   ],
   "source": [
    "altuve_2015[0:3]"
   ]
  },
  {
   "cell_type": "code",
   "execution_count": 47,
   "metadata": {},
   "outputs": [],
   "source": [
    "altuve_2015_game_data_only = []\n",
    "for idx, row in enumerate(altuve_2015):\n",
    "    if idx % 2 == 0:\n",
    "        altuve_2015_game_data_only.append(row)\n",
    "\n",
    "altuve_2015_game_data_only = altuve_2015_game_data_only[1:]"
   ]
  },
  {
   "cell_type": "code",
   "execution_count": 48,
   "metadata": {},
   "outputs": [
    {
     "data": {
      "text/plain": [
       "154"
      ]
     },
     "execution_count": 48,
     "metadata": {},
     "output_type": "execute_result"
    }
   ],
   "source": [
    "len(altuve_2015_game_data_only)"
   ]
  },
  {
   "cell_type": "markdown",
   "metadata": {},
   "source": [
    "remove the mid-table column header repeats.\n",
    "\n",
    "this next line was finding out what part of the line had the extra column header information that repeats throughout the table on the website, and that was incorporated into building the altuve_2015_game_data_cleaned list"
   ]
  },
  {
   "cell_type": "code",
   "execution_count": 49,
   "metadata": {},
   "outputs": [
    {
     "data": {
      "text/plain": [
       "'   Date'"
      ]
     },
     "execution_count": 49,
     "metadata": {},
     "output_type": "execute_result"
    }
   ],
   "source": [
    "altuve_2015_game_data_only[19][112:119]"
   ]
  },
  {
   "cell_type": "code",
   "execution_count": 50,
   "metadata": {},
   "outputs": [],
   "source": [
    "altuve_2015_game_data_cleaned = []\n",
    "for row in altuve_2015_game_data_only:\n",
    "    if row[112:119] == '   Date':\n",
    "        altuve_2015_game_data_cleaned.append(row[0:112])\n",
    "    else:\n",
    "        altuve_2015_game_data_cleaned.append(row)"
   ]
  },
  {
   "cell_type": "markdown",
   "metadata": {},
   "source": [
    "verify the index of the batting average data in each line"
   ]
  },
  {
   "cell_type": "code",
   "execution_count": 51,
   "metadata": {},
   "outputs": [
    {
     "data": {
      "text/plain": [
       "'.091'"
      ]
     },
     "execution_count": 51,
     "metadata": {},
     "output_type": "execute_result"
    }
   ],
   "source": [
    "altuve_2015_game_data_only[2][87:91]"
   ]
  },
  {
   "cell_type": "markdown",
   "metadata": {},
   "source": [
    "construct list of float batting averages"
   ]
  },
  {
   "cell_type": "code",
   "execution_count": 52,
   "metadata": {},
   "outputs": [],
   "source": [
    "altuve_2015_averages = [float(row[87:91]) for row in altuve_2015_game_data_cleaned]"
   ]
  },
  {
   "cell_type": "markdown",
   "metadata": {},
   "source": [
    "## 2015 Dates"
   ]
  },
  {
   "cell_type": "code",
   "execution_count": 53,
   "metadata": {},
   "outputs": [],
   "source": [
    "url = 'https://www.retrosheet.org/boxesetc/2015/Ialtuj0010052015.htm'\n",
    "r = requests.get(url)\n",
    "\n",
    "soup = BeautifulSoup(r.text, 'html.parser')\n",
    "\n",
    "link_text = []\n",
    "for a in soup.find_all('a'):\n",
    "    link_text.append(a.string)\n",
    "\n",
    "link_text_dates = link_text[48:]\n",
    "\n",
    "altuve_2015_dates = []\n",
    "for i in link_text_dates:\n",
    "    if '2015' in i:\n",
    "        altuve_2015_dates.append(i)"
   ]
  },
  {
   "cell_type": "code",
   "execution_count": 54,
   "metadata": {},
   "outputs": [],
   "source": [
    "altuve_2015_dates_cleaned = []\n",
    "for date in altuve_2015_dates:\n",
    "    altuve_2015_dates_cleaned.append(date.replace(' ', '0'))"
   ]
  },
  {
   "cell_type": "code",
   "execution_count": 55,
   "metadata": {},
   "outputs": [],
   "source": [
    "altuve_2015_dates_final = []\n",
    "for date in altuve_2015_dates_cleaned:\n",
    "    altuve_2015_dates_final.append(datetime.strftime(datetime.strptime(date, '%m-%d-%Y'), '%m-%d'))"
   ]
  },
  {
   "cell_type": "code",
   "execution_count": 56,
   "metadata": {},
   "outputs": [
    {
     "data": {
      "text/html": [
       "<div>\n",
       "<style scoped>\n",
       "    .dataframe tbody tr th:only-of-type {\n",
       "        vertical-align: middle;\n",
       "    }\n",
       "\n",
       "    .dataframe tbody tr th {\n",
       "        vertical-align: top;\n",
       "    }\n",
       "\n",
       "    .dataframe thead th {\n",
       "        text-align: right;\n",
       "    }\n",
       "</style>\n",
       "<table border=\"1\" class=\"dataframe\">\n",
       "  <thead>\n",
       "    <tr style=\"text-align: right;\">\n",
       "      <th></th>\n",
       "      <th>2015</th>\n",
       "      <th>Batting Average</th>\n",
       "    </tr>\n",
       "  </thead>\n",
       "  <tbody>\n",
       "    <tr>\n",
       "      <th>0</th>\n",
       "      <td>04-06</td>\n",
       "      <td>0.250</td>\n",
       "    </tr>\n",
       "    <tr>\n",
       "      <th>1</th>\n",
       "      <td>04-08</td>\n",
       "      <td>0.125</td>\n",
       "    </tr>\n",
       "    <tr>\n",
       "      <th>2</th>\n",
       "      <td>04-09</td>\n",
       "      <td>0.091</td>\n",
       "    </tr>\n",
       "    <tr>\n",
       "      <th>3</th>\n",
       "      <td>04-10</td>\n",
       "      <td>0.125</td>\n",
       "    </tr>\n",
       "    <tr>\n",
       "      <th>4</th>\n",
       "      <td>04-11</td>\n",
       "      <td>0.200</td>\n",
       "    </tr>\n",
       "    <tr>\n",
       "      <th>...</th>\n",
       "      <td>...</td>\n",
       "      <td>...</td>\n",
       "    </tr>\n",
       "    <tr>\n",
       "      <th>149</th>\n",
       "      <td>09-29</td>\n",
       "      <td>0.311</td>\n",
       "    </tr>\n",
       "    <tr>\n",
       "      <th>150</th>\n",
       "      <td>09-30</td>\n",
       "      <td>0.310</td>\n",
       "    </tr>\n",
       "    <tr>\n",
       "      <th>151</th>\n",
       "      <td>10-02</td>\n",
       "      <td>0.310</td>\n",
       "    </tr>\n",
       "    <tr>\n",
       "      <th>152</th>\n",
       "      <td>10-03</td>\n",
       "      <td>0.311</td>\n",
       "    </tr>\n",
       "    <tr>\n",
       "      <th>153</th>\n",
       "      <td>10-04</td>\n",
       "      <td>0.313</td>\n",
       "    </tr>\n",
       "  </tbody>\n",
       "</table>\n",
       "<p>154 rows × 2 columns</p>\n",
       "</div>"
      ],
      "text/plain": [
       "      2015  Batting Average\n",
       "0    04-06            0.250\n",
       "1    04-08            0.125\n",
       "2    04-09            0.091\n",
       "3    04-10            0.125\n",
       "4    04-11            0.200\n",
       "..     ...              ...\n",
       "149  09-29            0.311\n",
       "150  09-30            0.310\n",
       "151  10-02            0.310\n",
       "152  10-03            0.311\n",
       "153  10-04            0.313\n",
       "\n",
       "[154 rows x 2 columns]"
      ]
     },
     "execution_count": 56,
     "metadata": {},
     "output_type": "execute_result"
    }
   ],
   "source": [
    "altuve_2015_df = pd.DataFrame(altuve_2015_averages, altuve_2015_dates_final).reset_index()\n",
    "altuve_2015_df.columns = ['2015', 'Batting Average']\n",
    "altuve_2015_df"
   ]
  },
  {
   "cell_type": "code",
   "execution_count": 57,
   "metadata": {
    "scrolled": false
   },
   "outputs": [
    {
     "data": {
      "text/plain": [
       "<matplotlib.axes._subplots.AxesSubplot at 0x7fc834f6f1d0>"
      ]
     },
     "execution_count": 57,
     "metadata": {},
     "output_type": "execute_result"
    },
    {
     "data": {
      "image/png": "[encoded data removed]",
      "text/plain": [
       "<Figure size 432x288 with 1 Axes>"
      ]
     },
     "metadata": {
      "needs_background": "light"
     },
     "output_type": "display_data"
    },
    {
     "data": {
      "image/png": "[encoded data removed]",
      "text/plain": [
       "<Figure size 432x288 with 1 Axes>"
      ]
     },
     "metadata": {
      "needs_background": "light"
     },
     "output_type": "display_data"
    },
    {
     "data": {
      "image/png": "[encoded data removed]",
      "text/plain": [
       "<Figure size 432x288 with 1 Axes>"
      ]
     },
     "metadata": {
      "needs_background": "light"
     },
     "output_type": "display_data"
    }
   ],
   "source": [
    "altuve_2015_df.plot('2015', 'Batting Average')\n",
    "altuve_2016_df.plot('2016', 'Batting Average')\n",
    "altuve_2017_df.plot('2017', 'Batting Average')"
   ]
  },
  {
   "cell_type": "markdown",
   "metadata": {},
   "source": [
    "# 2014 Scrape: Jose Altuve"
   ]
  },
  {
   "cell_type": "code",
   "execution_count": 58,
   "metadata": {},
   "outputs": [],
   "source": [
    "xpath = \"//pre[5]/text()\"\n",
    "url = 'https://www.retrosheet.org/boxesetc/2014/Ialtuj0010042014.htm'\n",
    "r = requests.get(url)\n",
    "page = html.parse(StringIO(r.text))\n",
    "altuve_2014 = page.xpath(xpath)"
   ]
  },
  {
   "cell_type": "code",
   "execution_count": 59,
   "metadata": {},
   "outputs": [
    {
     "data": {
      "text/plain": [
       "['   Date    #         Opponent  GS  AB   R   H  2B  3B  HR RBI  BB IBB  SO HBP  SH  SF  XI ROE GDP  SB  CS   AVG   OBP   SLG  BP  Pos\\n',\n",
       " '   ',\n",
       " ' VS NY  A   1   4   1   2   0   0   0   2   0   0   0   0   0   0   0   0   0   1   0  .500  .500  .500   3  2b\\n']"
      ]
     },
     "execution_count": 59,
     "metadata": {},
     "output_type": "execute_result"
    }
   ],
   "source": [
    "altuve_2014[0:3]"
   ]
  },
  {
   "cell_type": "code",
   "execution_count": 60,
   "metadata": {},
   "outputs": [],
   "source": [
    "altuve_2014_game_data_only = []\n",
    "for idx, row in enumerate(altuve_2014):\n",
    "    if idx % 2 == 0:\n",
    "        altuve_2014_game_data_only.append(row)\n",
    "\n",
    "altuve_2014_game_data_only = altuve_2014_game_data_only[1:]"
   ]
  },
  {
   "cell_type": "code",
   "execution_count": 62,
   "metadata": {},
   "outputs": [
    {
     "data": {
      "text/plain": [
       "158"
      ]
     },
     "execution_count": 62,
     "metadata": {},
     "output_type": "execute_result"
    }
   ],
   "source": [
    "len(altuve_2014_game_data_only)"
   ]
  },
  {
   "cell_type": "code",
   "execution_count": 63,
   "metadata": {},
   "outputs": [
    {
     "data": {
      "text/plain": [
       "'   Date'"
      ]
     },
     "execution_count": 63,
     "metadata": {},
     "output_type": "execute_result"
    }
   ],
   "source": [
    "altuve_2014_game_data_only[19][112:119]"
   ]
  },
  {
   "cell_type": "code",
   "execution_count": 64,
   "metadata": {},
   "outputs": [],
   "source": [
    "altuve_2014_game_data_cleaned = []\n",
    "for row in altuve_2014_game_data_only:\n",
    "    if row[112:119] == '   Date':\n",
    "        altuve_2014_game_data_cleaned.append(row[0:112])\n",
    "    else:\n",
    "        altuve_2014_game_data_cleaned.append(row)"
   ]
  },
  {
   "cell_type": "code",
   "execution_count": 65,
   "metadata": {},
   "outputs": [
    {
     "data": {
      "text/plain": [
       "'.385'"
      ]
     },
     "execution_count": 65,
     "metadata": {},
     "output_type": "execute_result"
    }
   ],
   "source": [
    "altuve_2014_game_data_only[3][87:91]"
   ]
  },
  {
   "cell_type": "code",
   "execution_count": 66,
   "metadata": {},
   "outputs": [],
   "source": [
    "altuve_2014_averages = [float(row[87:91]) for row in altuve_2014_game_data_cleaned]"
   ]
  },
  {
   "cell_type": "markdown",
   "metadata": {},
   "source": [
    "## 2014 Dates"
   ]
  },
  {
   "cell_type": "code",
   "execution_count": 67,
   "metadata": {},
   "outputs": [],
   "source": [
    "url = 'https://www.retrosheet.org/boxesetc/2014/Ialtuj0010042014.htm'\n",
    "r = requests.get(url)\n",
    "\n",
    "soup = BeautifulSoup(r.text, 'html.parser')\n",
    "\n",
    "link_text = []\n",
    "for a in soup.find_all('a'):\n",
    "    link_text.append(a.string)\n",
    "\n",
    "link_text_dates = link_text[48:]\n",
    "\n",
    "altuve_2014_dates = []\n",
    "for i in link_text_dates:\n",
    "    if '2014' in i:\n",
    "        altuve_2014_dates.append(i)"
   ]
  },
  {
   "cell_type": "code",
   "execution_count": 68,
   "metadata": {},
   "outputs": [],
   "source": [
    "altuve_2014_dates_cleaned = []\n",
    "for date in altuve_2014_dates:\n",
    "    altuve_2014_dates_cleaned.append(date.replace(' ', '0'))"
   ]
  },
  {
   "cell_type": "code",
   "execution_count": 69,
   "metadata": {},
   "outputs": [],
   "source": [
    "altuve_2014_dates_final = []\n",
    "for date in altuve_2014_dates_cleaned:\n",
    "    altuve_2014_dates_final.append(datetime.strftime(datetime.strptime(date, '%m-%d-%Y'), '%m-%d'))"
   ]
  },
  {
   "cell_type": "code",
   "execution_count": 70,
   "metadata": {},
   "outputs": [
    {
     "data": {
      "text/html": [
       "<div>\n",
       "<style scoped>\n",
       "    .dataframe tbody tr th:only-of-type {\n",
       "        vertical-align: middle;\n",
       "    }\n",
       "\n",
       "    .dataframe tbody tr th {\n",
       "        vertical-align: top;\n",
       "    }\n",
       "\n",
       "    .dataframe thead th {\n",
       "        text-align: right;\n",
       "    }\n",
       "</style>\n",
       "<table border=\"1\" class=\"dataframe\">\n",
       "  <thead>\n",
       "    <tr style=\"text-align: right;\">\n",
       "      <th></th>\n",
       "      <th>2014</th>\n",
       "      <th>Batting Average</th>\n",
       "    </tr>\n",
       "  </thead>\n",
       "  <tbody>\n",
       "    <tr>\n",
       "      <th>0</th>\n",
       "      <td>04-01</td>\n",
       "      <td>0.500</td>\n",
       "    </tr>\n",
       "    <tr>\n",
       "      <th>1</th>\n",
       "      <td>04-02</td>\n",
       "      <td>0.286</td>\n",
       "    </tr>\n",
       "    <tr>\n",
       "      <th>2</th>\n",
       "      <td>04-03</td>\n",
       "      <td>0.300</td>\n",
       "    </tr>\n",
       "    <tr>\n",
       "      <th>3</th>\n",
       "      <td>04-04</td>\n",
       "      <td>0.385</td>\n",
       "    </tr>\n",
       "    <tr>\n",
       "      <th>4</th>\n",
       "      <td>04-05</td>\n",
       "      <td>0.375</td>\n",
       "    </tr>\n",
       "    <tr>\n",
       "      <th>...</th>\n",
       "      <td>...</td>\n",
       "      <td>...</td>\n",
       "    </tr>\n",
       "    <tr>\n",
       "      <th>153</th>\n",
       "      <td>09-23</td>\n",
       "      <td>0.343</td>\n",
       "    </tr>\n",
       "    <tr>\n",
       "      <th>154</th>\n",
       "      <td>09-24</td>\n",
       "      <td>0.343</td>\n",
       "    </tr>\n",
       "    <tr>\n",
       "      <th>155</th>\n",
       "      <td>09-26</td>\n",
       "      <td>0.342</td>\n",
       "    </tr>\n",
       "    <tr>\n",
       "      <th>156</th>\n",
       "      <td>09-27</td>\n",
       "      <td>0.340</td>\n",
       "    </tr>\n",
       "    <tr>\n",
       "      <th>157</th>\n",
       "      <td>09-28</td>\n",
       "      <td>0.341</td>\n",
       "    </tr>\n",
       "  </tbody>\n",
       "</table>\n",
       "<p>158 rows × 2 columns</p>\n",
       "</div>"
      ],
      "text/plain": [
       "      2014  Batting Average\n",
       "0    04-01            0.500\n",
       "1    04-02            0.286\n",
       "2    04-03            0.300\n",
       "3    04-04            0.385\n",
       "4    04-05            0.375\n",
       "..     ...              ...\n",
       "153  09-23            0.343\n",
       "154  09-24            0.343\n",
       "155  09-26            0.342\n",
       "156  09-27            0.340\n",
       "157  09-28            0.341\n",
       "\n",
       "[158 rows x 2 columns]"
      ]
     },
     "execution_count": 70,
     "metadata": {},
     "output_type": "execute_result"
    }
   ],
   "source": [
    "altuve_2014_df = pd.DataFrame(altuve_2014_averages, altuve_2014_dates_final).reset_index()\n",
    "altuve_2014_df.columns = ['2014', 'Batting Average']\n",
    "altuve_2014_df"
   ]
  },
  {
   "cell_type": "code",
   "execution_count": 71,
   "metadata": {},
   "outputs": [
    {
     "data": {
      "text/plain": [
       "<matplotlib.axes._subplots.AxesSubplot at 0x7fc8353b1810>"
      ]
     },
     "execution_count": 71,
     "metadata": {},
     "output_type": "execute_result"
    },
    {
     "data": {
      "image/png": "[encoded data removed]",
      "text/plain": [
       "<Figure size 432x288 with 1 Axes>"
      ]
     },
     "metadata": {
      "needs_background": "light"
     },
     "output_type": "display_data"
    },
    {
     "data": {
      "image/png": "[encoded data removed]",
      "text/plain": [
       "<Figure size 432x288 with 1 Axes>"
      ]
     },
     "metadata": {
      "needs_background": "light"
     },
     "output_type": "display_data"
    },
    {
     "data": {
      "image/png": "[encoded data removed]",
      "text/plain": [
       "<Figure size 432x288 with 1 Axes>"
      ]
     },
     "metadata": {
      "needs_background": "light"
     },
     "output_type": "display_data"
    },
    {
     "data": {
      "image/png": "[encoded data removed]",
      "text/plain": [
       "<Figure size 432x288 with 1 Axes>"
      ]
     },
     "metadata": {
      "needs_background": "light"
     },
     "output_type": "display_data"
    }
   ],
   "source": [
    "altuve_2014_df.plot('2014', 'Batting Average')\n",
    "altuve_2015_df.plot('2015', 'Batting Average')\n",
    "altuve_2016_df.plot('2016', 'Batting Average')\n",
    "altuve_2017_df.plot('2017', 'Batting Average')"
   ]
  },
  {
   "cell_type": "markdown",
   "metadata": {},
   "source": [
    "# 2013 Scrape: Jose Altuve"
   ]
  },
  {
   "cell_type": "code",
   "execution_count": 72,
   "metadata": {},
   "outputs": [],
   "source": [
    "xpath = \"//pre[5]/text()\"\n",
    "url = 'https://www.retrosheet.org/boxesetc/2013/Ialtuj0010032013.htm'\n",
    "r = requests.get(url)\n",
    "page = html.parse(StringIO(r.text))\n",
    "altuve_2013 = page.xpath(xpath)"
   ]
  },
  {
   "cell_type": "code",
   "execution_count": 73,
   "metadata": {},
   "outputs": [],
   "source": [
    "altuve_2013_game_data_only = []\n",
    "for idx, row in enumerate(altuve_2013):\n",
    "    if idx % 2 == 0:\n",
    "        altuve_2013_game_data_only.append(row)\n",
    "\n",
    "altuve_2013_game_data_only = altuve_2013_game_data_only[1:]"
   ]
  },
  {
   "cell_type": "code",
   "execution_count": 74,
   "metadata": {},
   "outputs": [],
   "source": [
    "altuve_2013_game_data_cleaned = []\n",
    "for row in altuve_2013_game_data_only:\n",
    "    if row[112:119] == '   Date':\n",
    "        altuve_2013_game_data_cleaned.append(row[0:112])\n",
    "    else:\n",
    "        altuve_2013_game_data_cleaned.append(row)"
   ]
  },
  {
   "cell_type": "code",
   "execution_count": 75,
   "metadata": {},
   "outputs": [],
   "source": [
    "altuve_2013_averages = [float(row[87:91]) for row in altuve_2013_game_data_cleaned]"
   ]
  },
  {
   "cell_type": "markdown",
   "metadata": {},
   "source": [
    "## 2013 Dates"
   ]
  },
  {
   "cell_type": "code",
   "execution_count": 76,
   "metadata": {},
   "outputs": [],
   "source": [
    "url = 'https://www.retrosheet.org/boxesetc/2013/Ialtuj0010032013.htm'\n",
    "r = requests.get(url)\n",
    "\n",
    "soup = BeautifulSoup(r.text, 'html.parser')\n",
    "\n",
    "link_text = []\n",
    "for a in soup.find_all('a'):\n",
    "    link_text.append(a.string)\n",
    "\n",
    "link_text_dates = link_text[48:]\n",
    "\n",
    "altuve_2013_dates = []\n",
    "for i in link_text_dates:\n",
    "    if '2013' in i:\n",
    "        altuve_2013_dates.append(i)"
   ]
  },
  {
   "cell_type": "code",
   "execution_count": 77,
   "metadata": {},
   "outputs": [],
   "source": [
    "altuve_2013_dates_cleaned = []\n",
    "for date in altuve_2013_dates:\n",
    "    altuve_2013_dates_cleaned.append(date.replace(' ', '0'))"
   ]
  },
  {
   "cell_type": "code",
   "execution_count": 78,
   "metadata": {},
   "outputs": [],
   "source": [
    "altuve_2013_dates_final = []\n",
    "for date in altuve_2013_dates_cleaned:\n",
    "    altuve_2013_dates_final.append(datetime.strftime(datetime.strptime(date, '%m-%d-%Y'), '%m-%d'))"
   ]
  },
  {
   "cell_type": "code",
   "execution_count": 79,
   "metadata": {},
   "outputs": [
    {
     "data": {
      "text/html": [
       "<div>\n",
       "<style scoped>\n",
       "    .dataframe tbody tr th:only-of-type {\n",
       "        vertical-align: middle;\n",
       "    }\n",
       "\n",
       "    .dataframe tbody tr th {\n",
       "        vertical-align: top;\n",
       "    }\n",
       "\n",
       "    .dataframe thead th {\n",
       "        text-align: right;\n",
       "    }\n",
       "</style>\n",
       "<table border=\"1\" class=\"dataframe\">\n",
       "  <thead>\n",
       "    <tr style=\"text-align: right;\">\n",
       "      <th></th>\n",
       "      <th>2013</th>\n",
       "      <th>Batting Average</th>\n",
       "    </tr>\n",
       "  </thead>\n",
       "  <tbody>\n",
       "    <tr>\n",
       "      <th>0</th>\n",
       "      <td>03-31</td>\n",
       "      <td>0.500</td>\n",
       "    </tr>\n",
       "    <tr>\n",
       "      <th>1</th>\n",
       "      <td>04-02</td>\n",
       "      <td>0.375</td>\n",
       "    </tr>\n",
       "    <tr>\n",
       "      <th>2</th>\n",
       "      <td>04-03</td>\n",
       "      <td>0.417</td>\n",
       "    </tr>\n",
       "    <tr>\n",
       "      <th>3</th>\n",
       "      <td>04-05</td>\n",
       "      <td>0.438</td>\n",
       "    </tr>\n",
       "    <tr>\n",
       "      <th>4</th>\n",
       "      <td>04-06</td>\n",
       "      <td>0.400</td>\n",
       "    </tr>\n",
       "    <tr>\n",
       "      <th>...</th>\n",
       "      <td>...</td>\n",
       "      <td>...</td>\n",
       "    </tr>\n",
       "    <tr>\n",
       "      <th>147</th>\n",
       "      <td>09-24</td>\n",
       "      <td>0.284</td>\n",
       "    </tr>\n",
       "    <tr>\n",
       "      <th>148</th>\n",
       "      <td>09-25</td>\n",
       "      <td>0.285</td>\n",
       "    </tr>\n",
       "    <tr>\n",
       "      <th>149</th>\n",
       "      <td>09-27</td>\n",
       "      <td>0.284</td>\n",
       "    </tr>\n",
       "    <tr>\n",
       "      <th>150</th>\n",
       "      <td>09-28</td>\n",
       "      <td>0.285</td>\n",
       "    </tr>\n",
       "    <tr>\n",
       "      <th>151</th>\n",
       "      <td>09-29</td>\n",
       "      <td>0.283</td>\n",
       "    </tr>\n",
       "  </tbody>\n",
       "</table>\n",
       "<p>152 rows × 2 columns</p>\n",
       "</div>"
      ],
      "text/plain": [
       "      2013  Batting Average\n",
       "0    03-31            0.500\n",
       "1    04-02            0.375\n",
       "2    04-03            0.417\n",
       "3    04-05            0.438\n",
       "4    04-06            0.400\n",
       "..     ...              ...\n",
       "147  09-24            0.284\n",
       "148  09-25            0.285\n",
       "149  09-27            0.284\n",
       "150  09-28            0.285\n",
       "151  09-29            0.283\n",
       "\n",
       "[152 rows x 2 columns]"
      ]
     },
     "execution_count": 79,
     "metadata": {},
     "output_type": "execute_result"
    }
   ],
   "source": [
    "altuve_2013_df = pd.DataFrame(altuve_2013_averages, altuve_2013_dates_final).reset_index()\n",
    "altuve_2013_df.columns = ['2013', 'Batting Average']\n",
    "altuve_2013_df"
   ]
  },
  {
   "cell_type": "code",
   "execution_count": 80,
   "metadata": {},
   "outputs": [
    {
     "data": {
      "text/plain": [
       "<matplotlib.axes._subplots.AxesSubplot at 0x7fc835467810>"
      ]
     },
     "execution_count": 80,
     "metadata": {},
     "output_type": "execute_result"
    },
    {
     "data": {
      "image/png": "[encoded data removed]",
      "text/plain": [
       "<Figure size 432x288 with 1 Axes>"
      ]
     },
     "metadata": {
      "needs_background": "light"
     },
     "output_type": "display_data"
    },
    {
     "data": {
      "image/png": "[encoded data removed]",
      "text/plain": [
       "<Figure size 432x288 with 1 Axes>"
      ]
     },
     "metadata": {
      "needs_background": "light"
     },
     "output_type": "display_data"
    },
    {
     "data": {
      "image/png": "[encoded data removed]",
      "text/plain": [
       "<Figure size 432x288 with 1 Axes>"
      ]
     },
     "metadata": {
      "needs_background": "light"
     },
     "output_type": "display_data"
    },
    {
     "data": {
      "image/png": "[encoded data removed]",
      "text/plain": [
       "<Figure size 432x288 with 1 Axes>"
      ]
     },
     "metadata": {
      "needs_background": "light"
     },
     "output_type": "display_data"
    },
    {
     "data": {
      "image/png": "[encoded data removed]",
      "text/plain": [
       "<Figure size 432x288 with 1 Axes>"
      ]
     },
     "metadata": {
      "needs_background": "light"
     },
     "output_type": "display_data"
    }
   ],
   "source": [
    "altuve_2013_df.plot('2013', 'Batting Average')\n",
    "altuve_2014_df.plot('2014', 'Batting Average')\n",
    "altuve_2015_df.plot('2015', 'Batting Average')\n",
    "altuve_2016_df.plot('2016', 'Batting Average')\n",
    "altuve_2017_df.plot('2017', 'Batting Average')"
   ]
  },
  {
   "cell_type": "markdown",
   "metadata": {},
   "source": [
    "# 2012 Scrape: Jose Altuve"
   ]
  },
  {
   "cell_type": "code",
   "execution_count": 81,
   "metadata": {},
   "outputs": [],
   "source": [
    "xpath = \"//pre[5]/text()\"\n",
    "url = 'https://www.retrosheet.org/boxesetc/2012/Ialtuj0010022012.htm'\n",
    "r = requests.get(url)\n",
    "page = html.parse(StringIO(r.text))\n",
    "altuve_2012 = page.xpath(xpath)\n",
    "\n",
    "altuve_2012_game_data_only = []\n",
    "for idx, row in enumerate(altuve_2012):\n",
    "    if idx % 2 == 0:\n",
    "        altuve_2012_game_data_only.append(row)\n",
    "\n",
    "altuve_2012_game_data_only = altuve_2012_game_data_only[1:]\n",
    "\n",
    "altuve_2012_game_data_cleaned = []\n",
    "for row in altuve_2012_game_data_only:\n",
    "    if row[112:119] == '   Date':\n",
    "        altuve_2012_game_data_cleaned.append(row[0:112])\n",
    "    else:\n",
    "        altuve_2012_game_data_cleaned.append(row)\n",
    "        \n",
    "altuve_2012_averages = [float(row[87:91]) for row in altuve_2012_game_data_cleaned]"
   ]
  },
  {
   "cell_type": "markdown",
   "metadata": {},
   "source": [
    "## 2012 Dates"
   ]
  },
  {
   "cell_type": "code",
   "execution_count": 82,
   "metadata": {},
   "outputs": [
    {
     "data": {
      "text/html": [
       "<div>\n",
       "<style scoped>\n",
       "    .dataframe tbody tr th:only-of-type {\n",
       "        vertical-align: middle;\n",
       "    }\n",
       "\n",
       "    .dataframe tbody tr th {\n",
       "        vertical-align: top;\n",
       "    }\n",
       "\n",
       "    .dataframe thead th {\n",
       "        text-align: right;\n",
       "    }\n",
       "</style>\n",
       "<table border=\"1\" class=\"dataframe\">\n",
       "  <thead>\n",
       "    <tr style=\"text-align: right;\">\n",
       "      <th></th>\n",
       "      <th>2012</th>\n",
       "      <th>Batting Average</th>\n",
       "    </tr>\n",
       "  </thead>\n",
       "  <tbody>\n",
       "    <tr>\n",
       "      <th>0</th>\n",
       "      <td>04-06</td>\n",
       "      <td>0.000</td>\n",
       "    </tr>\n",
       "    <tr>\n",
       "      <th>1</th>\n",
       "      <td>04-08</td>\n",
       "      <td>0.333</td>\n",
       "    </tr>\n",
       "    <tr>\n",
       "      <th>2</th>\n",
       "      <td>04-09</td>\n",
       "      <td>0.333</td>\n",
       "    </tr>\n",
       "    <tr>\n",
       "      <th>3</th>\n",
       "      <td>04-10</td>\n",
       "      <td>0.357</td>\n",
       "    </tr>\n",
       "    <tr>\n",
       "      <th>4</th>\n",
       "      <td>04-11</td>\n",
       "      <td>0.368</td>\n",
       "    </tr>\n",
       "    <tr>\n",
       "      <th>...</th>\n",
       "      <td>...</td>\n",
       "      <td>...</td>\n",
       "    </tr>\n",
       "    <tr>\n",
       "      <th>142</th>\n",
       "      <td>09-26</td>\n",
       "      <td>0.292</td>\n",
       "    </tr>\n",
       "    <tr>\n",
       "      <th>143</th>\n",
       "      <td>09-28</td>\n",
       "      <td>0.293</td>\n",
       "    </tr>\n",
       "    <tr>\n",
       "      <th>144</th>\n",
       "      <td>09-29</td>\n",
       "      <td>0.291</td>\n",
       "    </tr>\n",
       "    <tr>\n",
       "      <th>145</th>\n",
       "      <td>10-01</td>\n",
       "      <td>0.291</td>\n",
       "    </tr>\n",
       "    <tr>\n",
       "      <th>146</th>\n",
       "      <td>10-02</td>\n",
       "      <td>0.290</td>\n",
       "    </tr>\n",
       "  </tbody>\n",
       "</table>\n",
       "<p>147 rows × 2 columns</p>\n",
       "</div>"
      ],
      "text/plain": [
       "      2012  Batting Average\n",
       "0    04-06            0.000\n",
       "1    04-08            0.333\n",
       "2    04-09            0.333\n",
       "3    04-10            0.357\n",
       "4    04-11            0.368\n",
       "..     ...              ...\n",
       "142  09-26            0.292\n",
       "143  09-28            0.293\n",
       "144  09-29            0.291\n",
       "145  10-01            0.291\n",
       "146  10-02            0.290\n",
       "\n",
       "[147 rows x 2 columns]"
      ]
     },
     "execution_count": 82,
     "metadata": {},
     "output_type": "execute_result"
    }
   ],
   "source": [
    "url = 'https://www.retrosheet.org/boxesetc/2012/Ialtuj0010022012.htm'\n",
    "r = requests.get(url)\n",
    "\n",
    "soup = BeautifulSoup(r.text, 'html.parser')\n",
    "\n",
    "link_text = []\n",
    "for a in soup.find_all('a'):\n",
    "    link_text.append(a.string)\n",
    "\n",
    "link_text_dates = link_text[48:]\n",
    "\n",
    "altuve_2012_dates = []\n",
    "for i in link_text_dates:\n",
    "    if '2012' in i:\n",
    "        altuve_2012_dates.append(i)\n",
    "        \n",
    "altuve_2012_dates_cleaned = []\n",
    "for date in altuve_2012_dates:\n",
    "    altuve_2012_dates_cleaned.append(date.replace(' ', '0'))\n",
    "    \n",
    "altuve_2012_dates_final = []\n",
    "for date in altuve_2012_dates_cleaned:\n",
    "    altuve_2012_dates_final.append(datetime.strftime(datetime.strptime(date, '%m-%d-%Y'), '%m-%d'))\n",
    "    \n",
    "altuve_2012_df = pd.DataFrame(altuve_2012_averages, altuve_2012_dates_final).reset_index()\n",
    "altuve_2012_df.columns = ['2012', 'Batting Average']\n",
    "altuve_2012_df"
   ]
  },
  {
   "cell_type": "code",
   "execution_count": 83,
   "metadata": {},
   "outputs": [
    {
     "data": {
      "text/plain": [
       "<matplotlib.axes._subplots.AxesSubplot at 0x7fc8340b1790>"
      ]
     },
     "execution_count": 83,
     "metadata": {},
     "output_type": "execute_result"
    },
    {
     "data": {
      "image/png": "[encoded data removed]",
      "text/plain": [
       "<Figure size 432x288 with 1 Axes>"
      ]
     },
     "metadata": {
      "needs_background": "light"
     },
     "output_type": "display_data"
    },
    {
     "data": {
      "image/png": "[encoded data removed]",
      "text/plain": [
       "<Figure size 432x288 with 1 Axes>"
      ]
     },
     "metadata": {
      "needs_background": "light"
     },
     "output_type": "display_data"
    },
    {
     "data": {
      "image/png": "[encoded data removed]",
      "text/plain": [
       "<Figure size 432x288 with 1 Axes>"
      ]
     },
     "metadata": {
      "needs_background": "light"
     },
     "output_type": "display_data"
    },
    {
     "data": {
      "image/png": "[encoded data removed]",
      "text/plain": [
       "<Figure size 432x288 with 1 Axes>"
      ]
     },
     "metadata": {
      "needs_background": "light"
     },
     "output_type": "display_data"
    },
    {
     "data": {
      "image/png": "[encoded data removed]",
      "text/plain": [
       "<Figure size 432x288 with 1 Axes>"
      ]
     },
     "metadata": {
      "needs_background": "light"
     },
     "output_type": "display_data"
    },
    {
     "data": {
      "image/png": "[encoded data removed]",
      "text/plain": [
       "<Figure size 432x288 with 1 Axes>"
      ]
     },
     "metadata": {
      "needs_background": "light"
     },
     "output_type": "display_data"
    }
   ],
   "source": [
    "altuve_2012_df.plot('2012', 'Batting Average')\n",
    "altuve_2013_df.plot('2013', 'Batting Average')\n",
    "altuve_2014_df.plot('2014', 'Batting Average')\n",
    "altuve_2015_df.plot('2015', 'Batting Average')\n",
    "altuve_2016_df.plot('2016', 'Batting Average')\n",
    "altuve_2017_df.plot('2017', 'Batting Average')"
   ]
  },
  {
   "cell_type": "markdown",
   "metadata": {},
   "source": [
    "# 2011 Scrape: Jose Altuve"
   ]
  },
  {
   "cell_type": "code",
   "execution_count": 84,
   "metadata": {},
   "outputs": [],
   "source": [
    "# batting averages\n",
    "\n",
    "xpath = \"//pre[5]/text()\"\n",
    "url = 'https://www.retrosheet.org/boxesetc/2011/Ialtuj0010012011.htm'\n",
    "r = requests.get(url)\n",
    "page = html.parse(StringIO(r.text))\n",
    "altuve_2011 = page.xpath(xpath)\n",
    "\n",
    "altuve_2011_game_data_only = []\n",
    "for idx, row in enumerate(altuve_2011):\n",
    "    if idx % 2 == 0:\n",
    "        altuve_2011_game_data_only.append(row)\n",
    "        \n",
    "\n",
    "altuve_2011_game_data_cleaned = []\n",
    "for row in altuve_2011_game_data_only[1:]:\n",
    "    if row[112:119] == '   Date':\n",
    "        altuve_2011_game_data_cleaned.append(row[0:112])\n",
    "    else:\n",
    "        altuve_2011_game_data_cleaned.append(row)\n",
    "        \n",
    "altuve_2011_averages = [float(row[87:91]) for row in altuve_2011_game_data_cleaned]"
   ]
  },
  {
   "cell_type": "code",
   "execution_count": 85,
   "metadata": {
    "scrolled": true
   },
   "outputs": [
    {
     "data": {
      "text/html": [
       "<div>\n",
       "<style scoped>\n",
       "    .dataframe tbody tr th:only-of-type {\n",
       "        vertical-align: middle;\n",
       "    }\n",
       "\n",
       "    .dataframe tbody tr th {\n",
       "        vertical-align: top;\n",
       "    }\n",
       "\n",
       "    .dataframe thead th {\n",
       "        text-align: right;\n",
       "    }\n",
       "</style>\n",
       "<table border=\"1\" class=\"dataframe\">\n",
       "  <thead>\n",
       "    <tr style=\"text-align: right;\">\n",
       "      <th></th>\n",
       "      <th>2011</th>\n",
       "      <th>Batting Average</th>\n",
       "    </tr>\n",
       "  </thead>\n",
       "  <tbody>\n",
       "    <tr>\n",
       "      <th>0</th>\n",
       "      <td>07-20</td>\n",
       "      <td>0.200</td>\n",
       "    </tr>\n",
       "    <tr>\n",
       "      <th>1</th>\n",
       "      <td>07-22</td>\n",
       "      <td>0.250</td>\n",
       "    </tr>\n",
       "    <tr>\n",
       "      <th>2</th>\n",
       "      <td>07-23</td>\n",
       "      <td>0.250</td>\n",
       "    </tr>\n",
       "    <tr>\n",
       "      <th>3</th>\n",
       "      <td>07-24</td>\n",
       "      <td>0.308</td>\n",
       "    </tr>\n",
       "    <tr>\n",
       "      <th>4</th>\n",
       "      <td>07-25</td>\n",
       "      <td>0.412</td>\n",
       "    </tr>\n",
       "    <tr>\n",
       "      <th>5</th>\n",
       "      <td>07-26</td>\n",
       "      <td>0.381</td>\n",
       "    </tr>\n",
       "    <tr>\n",
       "      <th>6</th>\n",
       "      <td>07-27</td>\n",
       "      <td>0.423</td>\n",
       "    </tr>\n",
       "    <tr>\n",
       "      <th>7</th>\n",
       "      <td>07-28</td>\n",
       "      <td>0.367</td>\n",
       "    </tr>\n",
       "    <tr>\n",
       "      <th>8</th>\n",
       "      <td>07-29</td>\n",
       "      <td>0.353</td>\n",
       "    </tr>\n",
       "    <tr>\n",
       "      <th>9</th>\n",
       "      <td>07-30</td>\n",
       "      <td>0.371</td>\n",
       "    </tr>\n",
       "    <tr>\n",
       "      <th>10</th>\n",
       "      <td>07-31</td>\n",
       "      <td>0.359</td>\n",
       "    </tr>\n",
       "    <tr>\n",
       "      <th>11</th>\n",
       "      <td>08-01</td>\n",
       "      <td>0.318</td>\n",
       "    </tr>\n",
       "    <tr>\n",
       "      <th>12</th>\n",
       "      <td>08-02</td>\n",
       "      <td>0.319</td>\n",
       "    </tr>\n",
       "    <tr>\n",
       "      <th>13</th>\n",
       "      <td>08-03</td>\n",
       "      <td>0.340</td>\n",
       "    </tr>\n",
       "    <tr>\n",
       "      <th>14</th>\n",
       "      <td>08-05</td>\n",
       "      <td>0.315</td>\n",
       "    </tr>\n",
       "    <tr>\n",
       "      <th>15</th>\n",
       "      <td>08-06</td>\n",
       "      <td>0.316</td>\n",
       "    </tr>\n",
       "    <tr>\n",
       "      <th>16</th>\n",
       "      <td>08-07</td>\n",
       "      <td>0.328</td>\n",
       "    </tr>\n",
       "    <tr>\n",
       "      <th>17</th>\n",
       "      <td>08-08</td>\n",
       "      <td>0.348</td>\n",
       "    </tr>\n",
       "    <tr>\n",
       "      <th>18</th>\n",
       "      <td>08-09</td>\n",
       "      <td>0.333</td>\n",
       "    </tr>\n",
       "    <tr>\n",
       "      <th>19</th>\n",
       "      <td>08-10</td>\n",
       "      <td>0.329</td>\n",
       "    </tr>\n",
       "    <tr>\n",
       "      <th>20</th>\n",
       "      <td>08-11</td>\n",
       "      <td>0.346</td>\n",
       "    </tr>\n",
       "    <tr>\n",
       "      <th>21</th>\n",
       "      <td>08-12</td>\n",
       "      <td>0.341</td>\n",
       "    </tr>\n",
       "    <tr>\n",
       "      <th>22</th>\n",
       "      <td>08-13</td>\n",
       "      <td>0.337</td>\n",
       "    </tr>\n",
       "    <tr>\n",
       "      <th>23</th>\n",
       "      <td>08-14</td>\n",
       "      <td>0.333</td>\n",
       "    </tr>\n",
       "    <tr>\n",
       "      <th>24</th>\n",
       "      <td>08-15</td>\n",
       "      <td>0.320</td>\n",
       "    </tr>\n",
       "    <tr>\n",
       "      <th>25</th>\n",
       "      <td>08-16</td>\n",
       "      <td>0.317</td>\n",
       "    </tr>\n",
       "    <tr>\n",
       "      <th>26</th>\n",
       "      <td>08-17</td>\n",
       "      <td>0.314</td>\n",
       "    </tr>\n",
       "    <tr>\n",
       "      <th>27</th>\n",
       "      <td>08-20</td>\n",
       "      <td>0.327</td>\n",
       "    </tr>\n",
       "    <tr>\n",
       "      <th>28</th>\n",
       "      <td>08-21</td>\n",
       "      <td>0.322</td>\n",
       "    </tr>\n",
       "    <tr>\n",
       "      <th>29</th>\n",
       "      <td>08-22</td>\n",
       "      <td>0.317</td>\n",
       "    </tr>\n",
       "    <tr>\n",
       "      <th>30</th>\n",
       "      <td>08-23</td>\n",
       "      <td>0.312</td>\n",
       "    </tr>\n",
       "    <tr>\n",
       "      <th>31</th>\n",
       "      <td>08-24</td>\n",
       "      <td>0.310</td>\n",
       "    </tr>\n",
       "    <tr>\n",
       "      <th>32</th>\n",
       "      <td>08-25</td>\n",
       "      <td>0.305</td>\n",
       "    </tr>\n",
       "    <tr>\n",
       "      <th>33</th>\n",
       "      <td>08-26</td>\n",
       "      <td>0.304</td>\n",
       "    </tr>\n",
       "    <tr>\n",
       "      <th>34</th>\n",
       "      <td>08-27</td>\n",
       "      <td>0.295</td>\n",
       "    </tr>\n",
       "    <tr>\n",
       "      <th>35</th>\n",
       "      <td>08-28</td>\n",
       "      <td>0.300</td>\n",
       "    </tr>\n",
       "    <tr>\n",
       "      <th>36</th>\n",
       "      <td>08-29</td>\n",
       "      <td>0.310</td>\n",
       "    </tr>\n",
       "    <tr>\n",
       "      <th>37</th>\n",
       "      <td>08-30</td>\n",
       "      <td>0.313</td>\n",
       "    </tr>\n",
       "    <tr>\n",
       "      <th>38</th>\n",
       "      <td>08-31</td>\n",
       "      <td>0.305</td>\n",
       "    </tr>\n",
       "    <tr>\n",
       "      <th>39</th>\n",
       "      <td>09-02</td>\n",
       "      <td>0.304</td>\n",
       "    </tr>\n",
       "    <tr>\n",
       "      <th>40</th>\n",
       "      <td>09-03</td>\n",
       "      <td>0.296</td>\n",
       "    </tr>\n",
       "    <tr>\n",
       "      <th>41</th>\n",
       "      <td>09-04</td>\n",
       "      <td>0.294</td>\n",
       "    </tr>\n",
       "    <tr>\n",
       "      <th>42</th>\n",
       "      <td>09-05</td>\n",
       "      <td>0.295</td>\n",
       "    </tr>\n",
       "    <tr>\n",
       "      <th>43</th>\n",
       "      <td>09-06</td>\n",
       "      <td>0.287</td>\n",
       "    </tr>\n",
       "    <tr>\n",
       "      <th>44</th>\n",
       "      <td>09-09</td>\n",
       "      <td>0.284</td>\n",
       "    </tr>\n",
       "    <tr>\n",
       "      <th>45</th>\n",
       "      <td>09-10</td>\n",
       "      <td>0.283</td>\n",
       "    </tr>\n",
       "    <tr>\n",
       "      <th>46</th>\n",
       "      <td>09-12</td>\n",
       "      <td>0.277</td>\n",
       "    </tr>\n",
       "    <tr>\n",
       "      <th>47</th>\n",
       "      <td>09-14</td>\n",
       "      <td>0.278</td>\n",
       "    </tr>\n",
       "    <tr>\n",
       "      <th>48</th>\n",
       "      <td>09-16</td>\n",
       "      <td>0.274</td>\n",
       "    </tr>\n",
       "    <tr>\n",
       "      <th>49</th>\n",
       "      <td>09-17</td>\n",
       "      <td>0.272</td>\n",
       "    </tr>\n",
       "    <tr>\n",
       "      <th>50</th>\n",
       "      <td>09-19</td>\n",
       "      <td>0.267</td>\n",
       "    </tr>\n",
       "    <tr>\n",
       "      <th>51</th>\n",
       "      <td>09-20</td>\n",
       "      <td>0.266</td>\n",
       "    </tr>\n",
       "    <tr>\n",
       "      <th>52</th>\n",
       "      <td>09-22</td>\n",
       "      <td>0.271</td>\n",
       "    </tr>\n",
       "    <tr>\n",
       "      <th>53</th>\n",
       "      <td>09-24</td>\n",
       "      <td>0.268</td>\n",
       "    </tr>\n",
       "    <tr>\n",
       "      <th>54</th>\n",
       "      <td>09-25</td>\n",
       "      <td>0.268</td>\n",
       "    </tr>\n",
       "    <tr>\n",
       "      <th>55</th>\n",
       "      <td>09-27</td>\n",
       "      <td>0.275</td>\n",
       "    </tr>\n",
       "    <tr>\n",
       "      <th>56</th>\n",
       "      <td>09-28</td>\n",
       "      <td>0.276</td>\n",
       "    </tr>\n",
       "  </tbody>\n",
       "</table>\n",
       "</div>"
      ],
      "text/plain": [
       "     2011  Batting Average\n",
       "0   07-20            0.200\n",
       "1   07-22            0.250\n",
       "2   07-23            0.250\n",
       "3   07-24            0.308\n",
       "4   07-25            0.412\n",
       "5   07-26            0.381\n",
       "6   07-27            0.423\n",
       "7   07-28            0.367\n",
       "8   07-29            0.353\n",
       "9   07-30            0.371\n",
       "10  07-31            0.359\n",
       "11  08-01            0.318\n",
       "12  08-02            0.319\n",
       "13  08-03            0.340\n",
       "14  08-05            0.315\n",
       "15  08-06            0.316\n",
       "16  08-07            0.328\n",
       "17  08-08            0.348\n",
       "18  08-09            0.333\n",
       "19  08-10            0.329\n",
       "20  08-11            0.346\n",
       "21  08-12            0.341\n",
       "22  08-13            0.337\n",
       "23  08-14            0.333\n",
       "24  08-15            0.320\n",
       "25  08-16            0.317\n",
       "26  08-17            0.314\n",
       "27  08-20            0.327\n",
       "28  08-21            0.322\n",
       "29  08-22            0.317\n",
       "30  08-23            0.312\n",
       "31  08-24            0.310\n",
       "32  08-25            0.305\n",
       "33  08-26            0.304\n",
       "34  08-27            0.295\n",
       "35  08-28            0.300\n",
       "36  08-29            0.310\n",
       "37  08-30            0.313\n",
       "38  08-31            0.305\n",
       "39  09-02            0.304\n",
       "40  09-03            0.296\n",
       "41  09-04            0.294\n",
       "42  09-05            0.295\n",
       "43  09-06            0.287\n",
       "44  09-09            0.284\n",
       "45  09-10            0.283\n",
       "46  09-12            0.277\n",
       "47  09-14            0.278\n",
       "48  09-16            0.274\n",
       "49  09-17            0.272\n",
       "50  09-19            0.267\n",
       "51  09-20            0.266\n",
       "52  09-22            0.271\n",
       "53  09-24            0.268\n",
       "54  09-25            0.268\n",
       "55  09-27            0.275\n",
       "56  09-28            0.276"
      ]
     },
     "execution_count": 85,
     "metadata": {},
     "output_type": "execute_result"
    }
   ],
   "source": [
    "# and now for the dates\n",
    "\n",
    "soup = BeautifulSoup(r.text, 'html.parser')\n",
    "\n",
    "link_text = []\n",
    "for a in soup.find_all('a'):\n",
    "    link_text.append(a.string)\n",
    "\n",
    "altuve_2011_dates = []\n",
    "for i in link_text:\n",
    "    if '2011' in i:\n",
    "        altuve_2011_dates.append(i)\n",
    "\n",
    "altuve_2011_dates_cleaned = []\n",
    "for date in altuve_2011_dates:\n",
    "    altuve_2011_dates_cleaned.append(date.replace(' ', '0'))\n",
    "    \n",
    "altuve_2011_dates_final = []\n",
    "for date in altuve_2011_dates_cleaned:\n",
    "    altuve_2011_dates_final.append(datetime.strftime(datetime.strptime(date, '%m-%d-%Y'), '%m-%d'))\n",
    "    \n",
    "altuve_2011_df = pd.DataFrame(altuve_2011_averages, altuve_2011_dates_final).reset_index()\n",
    "altuve_2011_df.columns = ['2011', 'Batting Average']\n",
    "altuve_2011_df"
   ]
  },
  {
   "cell_type": "code",
   "execution_count": 86,
   "metadata": {
    "scrolled": false
   },
   "outputs": [
    {
     "data": {
      "text/plain": [
       "<matplotlib.axes._subplots.AxesSubplot at 0x7fc8360a3290>"
      ]
     },
     "execution_count": 86,
     "metadata": {},
     "output_type": "execute_result"
    },
    {
     "data": {
      "image/png": "[encoded data removed]",
      "text/plain": [
       "<Figure size 432x288 with 1 Axes>"
      ]
     },
     "metadata": {
      "needs_background": "light"
     },
     "output_type": "display_data"
    },
    {
     "data": {
      "image/png": "[encoded data removed]",
      "text/plain": [
       "<Figure size 432x288 with 1 Axes>"
      ]
     },
     "metadata": {
      "needs_background": "light"
     },
     "output_type": "display_data"
    },
    {
     "data": {
      "image/png": "[encoded data removed]",
      "text/plain": [
       "<Figure size 432x288 with 1 Axes>"
      ]
     },
     "metadata": {
      "needs_background": "light"
     },
     "output_type": "display_data"
    },
    {
     "data": {
      "image/png": "[encoded data removed]",
      "text/plain": [
       "<Figure size 432x288 with 1 Axes>"
      ]
     },
     "metadata": {
      "needs_background": "light"
     },
     "output_type": "display_data"
    },
    {
     "data": {
      "image/png": "[encoded data removed]",
      "text/plain": [
       "<Figure size 432x288 with 1 Axes>"
      ]
     },
     "metadata": {
      "needs_background": "light"
     },
     "output_type": "display_data"
    },
    {
     "data": {
      "image/png": "[encoded data removed]",
      "text/plain": [
       "<Figure size 432x288 with 1 Axes>"
      ]
     },
     "metadata": {
      "needs_background": "light"
     },
     "output_type": "display_data"
    },
    {
     "data": {
      "image/png": "[encoded data removed]",
      "text/plain": [
       "<Figure size 432x288 with 1 Axes>"
      ]
     },
     "metadata": {
      "needs_background": "light"
     },
     "output_type": "display_data"
    }
   ],
   "source": [
    "altuve_2011_df.plot('2011', 'Batting Average')\n",
    "altuve_2012_df.plot('2012', 'Batting Average')\n",
    "altuve_2013_df.plot('2013', 'Batting Average')\n",
    "altuve_2014_df.plot('2014', 'Batting Average')\n",
    "altuve_2015_df.plot('2015', 'Batting Average')\n",
    "altuve_2016_df.plot('2016', 'Batting Average')\n",
    "altuve_2017_df.plot('2017', 'Batting Average')"
   ]
  },
  {
   "cell_type": "code",
   "execution_count": 89,
   "metadata": {},
   "outputs": [],
   "source": [
    "altuve_2011_df.to_csv('csv_from_scrape/altuve_2011_df.csv')\n",
    "altuve_2012_df.to_csv('csv_from_scrape/altuve_2012_df.csv')\n",
    "altuve_2013_df.to_csv('csv_from_scrape/altuve_2013_df.csv')\n",
    "altuve_2014_df.to_csv('csv_from_scrape/altuve_2014_df.csv')\n",
    "altuve_2015_df.to_csv('csv_from_scrape/altuve_2015_df.csv')\n",
    "altuve_2016_df.to_csv('csv_from_scrape/altuve_2016_df.csv')\n",
    "altuve_2017_df.to_csv('csv_from_scrape/altuve_2017_df.csv')"
   ]
  },
  {
   "cell_type": "code",
   "execution_count": null,
   "metadata": {},
   "outputs": [],
   "source": []
  }
 ],
 "metadata": {
  "kernelspec": {
   "display_name": "Python 3",
   "language": "python",
   "name": "python3"
  },
  "language_info": {
   "codemirror_mode": {
    "name": "ipython",
    "version": 3
   },
   "file_extension": ".py",
   "mimetype": "text/x-python",
   "name": "python",
   "nbconvert_exporter": "python",
   "pygments_lexer": "ipython3",
   "version": "3.7.7"
  }
 },
 "nbformat": 4,
 "nbformat_minor": 4
}
